{
 "cells": [
  {
   "cell_type": "code",
   "execution_count": 1,
   "metadata": {},
   "outputs": [],
   "source": [
    "# Importando Librerías\n",
    "import pandas as pd\n",
    "import numpy as np\n",
    "import matplotlib.pyplot as plt\n",
    "import seaborn as sns\n",
    "import geopandas as gpd #para geolocalización\n",
    "import plotly.express as px\n",
    "import plotly.graph_objects as go\n",
    "from scipy import stats\n",
    "from pandas_profiling import ProfileReport # infoHTML\n",
    "import warnings\n",
    "warnings.simplefilter(action='ignore', category=FutureWarning)"
   ]
  },
  {
   "cell_type": "code",
   "execution_count": 2,
   "metadata": {},
   "outputs": [],
   "source": [
    "# muestra gráficos\n",
    "%matplotlib inline"
   ]
  },
  {
   "cell_type": "code",
   "execution_count": 3,
   "metadata": {},
   "outputs": [],
   "source": [
    "# Leemos los datos seleccionados\n",
    "df_main_inicial = pd.read_csv('../data/merged_data_cleaned.csv',index_col=0)"
   ]
  },
  {
   "cell_type": "code",
   "execution_count": 4,
   "metadata": {},
   "outputs": [],
   "source": [
    "df_main = df_main_inicial.copy()"
   ]
  },
  {
   "cell_type": "code",
   "execution_count": 5,
   "metadata": {},
   "outputs": [
    {
     "name": "stdout",
     "output_type": "stream",
     "text": [
      "<class 'pandas.core.frame.DataFrame'>\n",
      "Int64Index: 1339 entries, 0 to 1338\n",
      "Data columns (total 43 columns):\n",
      " #   Column                 Non-Null Count  Dtype  \n",
      "---  ------                 --------------  -----  \n",
      " 0   Species                1339 non-null   object \n",
      " 1   Owner                  1332 non-null   object \n",
      " 2   Country.of.Origin      1338 non-null   object \n",
      " 3   Farm.Name              980 non-null    object \n",
      " 4   Lot.Number             276 non-null    object \n",
      " 5   Mill                   1021 non-null   object \n",
      " 6   ICO.Number             1182 non-null   object \n",
      " 7   Company                1130 non-null   object \n",
      " 8   Altitude               1113 non-null   object \n",
      " 9   Region                 1280 non-null   object \n",
      " 10  Producer               1107 non-null   object \n",
      " 11  Number.of.Bags         1339 non-null   int64  \n",
      " 12  Bag.Weight             1339 non-null   object \n",
      " 13  In.Country.Partner     1339 non-null   object \n",
      " 14  Harvest.Year           1292 non-null   object \n",
      " 15  Grading.Date           1339 non-null   object \n",
      " 16  Owner.1                1332 non-null   object \n",
      " 17  Variety                1113 non-null   object \n",
      " 18  Processing.Method      1169 non-null   object \n",
      " 19  Aroma                  1339 non-null   float64\n",
      " 20  Flavor                 1339 non-null   float64\n",
      " 21  Aftertaste             1339 non-null   float64\n",
      " 22  Acidity                1339 non-null   float64\n",
      " 23  Body                   1339 non-null   float64\n",
      " 24  Balance                1339 non-null   float64\n",
      " 25  Uniformity             1339 non-null   float64\n",
      " 26  Clean.Cup              1339 non-null   float64\n",
      " 27  Sweetness              1339 non-null   float64\n",
      " 28  Cupper.Points          1339 non-null   float64\n",
      " 29  Total.Cup.Points       1339 non-null   float64\n",
      " 30  Moisture               1339 non-null   float64\n",
      " 31  Category.One.Defects   1339 non-null   int64  \n",
      " 32  Quakers                1338 non-null   float64\n",
      " 33  Color                  1121 non-null   object \n",
      " 34  Category.Two.Defects   1339 non-null   int64  \n",
      " 35  Expiration             1339 non-null   object \n",
      " 36  Certification.Body     1339 non-null   object \n",
      " 37  Certification.Address  1339 non-null   object \n",
      " 38  Certification.Contact  1339 non-null   object \n",
      " 39  unit_of_measurement    1339 non-null   object \n",
      " 40  altitude_low_meters    1109 non-null   float64\n",
      " 41  altitude_high_meters   1109 non-null   float64\n",
      " 42  altitude_mean_meters   1109 non-null   float64\n",
      "dtypes: float64(16), int64(3), object(24)\n",
      "memory usage: 460.3+ KB\n"
     ]
    }
   ],
   "source": [
    "df_main.info()"
   ]
  },
  {
   "cell_type": "code",
   "execution_count": 6,
   "metadata": {},
   "outputs": [
    {
     "data": {
      "text/html": [
       "<div>\n",
       "<style scoped>\n",
       "    .dataframe tbody tr th:only-of-type {\n",
       "        vertical-align: middle;\n",
       "    }\n",
       "\n",
       "    .dataframe tbody tr th {\n",
       "        vertical-align: top;\n",
       "    }\n",
       "\n",
       "    .dataframe thead th {\n",
       "        text-align: right;\n",
       "    }\n",
       "</style>\n",
       "<table border=\"1\" class=\"dataframe\">\n",
       "  <thead>\n",
       "    <tr style=\"text-align: right;\">\n",
       "      <th></th>\n",
       "      <th>Species</th>\n",
       "      <th>Owner</th>\n",
       "      <th>Country.of.Origin</th>\n",
       "      <th>Farm.Name</th>\n",
       "      <th>Lot.Number</th>\n",
       "      <th>Mill</th>\n",
       "      <th>ICO.Number</th>\n",
       "      <th>Company</th>\n",
       "      <th>Altitude</th>\n",
       "      <th>Region</th>\n",
       "      <th>...</th>\n",
       "      <th>Color</th>\n",
       "      <th>Category.Two.Defects</th>\n",
       "      <th>Expiration</th>\n",
       "      <th>Certification.Body</th>\n",
       "      <th>Certification.Address</th>\n",
       "      <th>Certification.Contact</th>\n",
       "      <th>unit_of_measurement</th>\n",
       "      <th>altitude_low_meters</th>\n",
       "      <th>altitude_high_meters</th>\n",
       "      <th>altitude_mean_meters</th>\n",
       "    </tr>\n",
       "  </thead>\n",
       "  <tbody>\n",
       "    <tr>\n",
       "      <th>0</th>\n",
       "      <td>Arabica</td>\n",
       "      <td>metad plc</td>\n",
       "      <td>Ethiopia</td>\n",
       "      <td>metad plc</td>\n",
       "      <td>NaN</td>\n",
       "      <td>metad plc</td>\n",
       "      <td>2014/2015</td>\n",
       "      <td>metad agricultural developmet plc</td>\n",
       "      <td>1950-2200</td>\n",
       "      <td>guji-hambela</td>\n",
       "      <td>...</td>\n",
       "      <td>Green</td>\n",
       "      <td>0</td>\n",
       "      <td>April 3rd, 2016</td>\n",
       "      <td>METAD Agricultural Development plc</td>\n",
       "      <td>309fcf77415a3661ae83e027f7e5f05dad786e44</td>\n",
       "      <td>19fef5a731de2db57d16da10287413f5f99bc2dd</td>\n",
       "      <td>m</td>\n",
       "      <td>1950.0</td>\n",
       "      <td>2200.0</td>\n",
       "      <td>2075.0</td>\n",
       "    </tr>\n",
       "    <tr>\n",
       "      <th>1</th>\n",
       "      <td>Arabica</td>\n",
       "      <td>metad plc</td>\n",
       "      <td>Ethiopia</td>\n",
       "      <td>metad plc</td>\n",
       "      <td>NaN</td>\n",
       "      <td>metad plc</td>\n",
       "      <td>2014/2015</td>\n",
       "      <td>metad agricultural developmet plc</td>\n",
       "      <td>1950-2200</td>\n",
       "      <td>guji-hambela</td>\n",
       "      <td>...</td>\n",
       "      <td>Green</td>\n",
       "      <td>1</td>\n",
       "      <td>April 3rd, 2016</td>\n",
       "      <td>METAD Agricultural Development plc</td>\n",
       "      <td>309fcf77415a3661ae83e027f7e5f05dad786e44</td>\n",
       "      <td>19fef5a731de2db57d16da10287413f5f99bc2dd</td>\n",
       "      <td>m</td>\n",
       "      <td>1950.0</td>\n",
       "      <td>2200.0</td>\n",
       "      <td>2075.0</td>\n",
       "    </tr>\n",
       "    <tr>\n",
       "      <th>2</th>\n",
       "      <td>Arabica</td>\n",
       "      <td>grounds for health admin</td>\n",
       "      <td>Guatemala</td>\n",
       "      <td>san marcos barrancas \"san cristobal cuch</td>\n",
       "      <td>NaN</td>\n",
       "      <td>NaN</td>\n",
       "      <td>NaN</td>\n",
       "      <td>NaN</td>\n",
       "      <td>1600 - 1800 m</td>\n",
       "      <td>NaN</td>\n",
       "      <td>...</td>\n",
       "      <td>NaN</td>\n",
       "      <td>0</td>\n",
       "      <td>May 31st, 2011</td>\n",
       "      <td>Specialty Coffee Association</td>\n",
       "      <td>36d0d00a3724338ba7937c52a378d085f2172daa</td>\n",
       "      <td>0878a7d4b9d35ddbf0fe2ce69a2062cceb45a660</td>\n",
       "      <td>m</td>\n",
       "      <td>1600.0</td>\n",
       "      <td>1800.0</td>\n",
       "      <td>1700.0</td>\n",
       "    </tr>\n",
       "    <tr>\n",
       "      <th>3</th>\n",
       "      <td>Arabica</td>\n",
       "      <td>yidnekachew dabessa</td>\n",
       "      <td>Ethiopia</td>\n",
       "      <td>yidnekachew dabessa coffee plantation</td>\n",
       "      <td>NaN</td>\n",
       "      <td>wolensu</td>\n",
       "      <td>NaN</td>\n",
       "      <td>yidnekachew debessa coffee plantation</td>\n",
       "      <td>1800-2200</td>\n",
       "      <td>oromia</td>\n",
       "      <td>...</td>\n",
       "      <td>Green</td>\n",
       "      <td>2</td>\n",
       "      <td>March 25th, 2016</td>\n",
       "      <td>METAD Agricultural Development plc</td>\n",
       "      <td>309fcf77415a3661ae83e027f7e5f05dad786e44</td>\n",
       "      <td>19fef5a731de2db57d16da10287413f5f99bc2dd</td>\n",
       "      <td>m</td>\n",
       "      <td>1800.0</td>\n",
       "      <td>2200.0</td>\n",
       "      <td>2000.0</td>\n",
       "    </tr>\n",
       "    <tr>\n",
       "      <th>4</th>\n",
       "      <td>Arabica</td>\n",
       "      <td>metad plc</td>\n",
       "      <td>Ethiopia</td>\n",
       "      <td>metad plc</td>\n",
       "      <td>NaN</td>\n",
       "      <td>metad plc</td>\n",
       "      <td>2014/2015</td>\n",
       "      <td>metad agricultural developmet plc</td>\n",
       "      <td>1950-2200</td>\n",
       "      <td>guji-hambela</td>\n",
       "      <td>...</td>\n",
       "      <td>Green</td>\n",
       "      <td>2</td>\n",
       "      <td>April 3rd, 2016</td>\n",
       "      <td>METAD Agricultural Development plc</td>\n",
       "      <td>309fcf77415a3661ae83e027f7e5f05dad786e44</td>\n",
       "      <td>19fef5a731de2db57d16da10287413f5f99bc2dd</td>\n",
       "      <td>m</td>\n",
       "      <td>1950.0</td>\n",
       "      <td>2200.0</td>\n",
       "      <td>2075.0</td>\n",
       "    </tr>\n",
       "    <tr>\n",
       "      <th>5</th>\n",
       "      <td>Arabica</td>\n",
       "      <td>ji-ae ahn</td>\n",
       "      <td>Brazil</td>\n",
       "      <td>NaN</td>\n",
       "      <td>NaN</td>\n",
       "      <td>NaN</td>\n",
       "      <td>NaN</td>\n",
       "      <td>NaN</td>\n",
       "      <td>NaN</td>\n",
       "      <td>NaN</td>\n",
       "      <td>...</td>\n",
       "      <td>Bluish-Green</td>\n",
       "      <td>1</td>\n",
       "      <td>September 3rd, 2014</td>\n",
       "      <td>Specialty Coffee Institute of Asia</td>\n",
       "      <td>726e4891cf2c9a4848768bd34b668124d12c4224</td>\n",
       "      <td>b70da261fcc84831e3e9620c30a8701540abc200</td>\n",
       "      <td>m</td>\n",
       "      <td>NaN</td>\n",
       "      <td>NaN</td>\n",
       "      <td>NaN</td>\n",
       "    </tr>\n",
       "    <tr>\n",
       "      <th>6</th>\n",
       "      <td>Arabica</td>\n",
       "      <td>hugo valdivia</td>\n",
       "      <td>Peru</td>\n",
       "      <td>NaN</td>\n",
       "      <td>NaN</td>\n",
       "      <td>hvc</td>\n",
       "      <td>NaN</td>\n",
       "      <td>richmond investment-coffee department</td>\n",
       "      <td>NaN</td>\n",
       "      <td>NaN</td>\n",
       "      <td>...</td>\n",
       "      <td>Bluish-Green</td>\n",
       "      <td>0</td>\n",
       "      <td>September 17th, 2013</td>\n",
       "      <td>Specialty Coffee Institute of Asia</td>\n",
       "      <td>726e4891cf2c9a4848768bd34b668124d12c4224</td>\n",
       "      <td>b70da261fcc84831e3e9620c30a8701540abc200</td>\n",
       "      <td>m</td>\n",
       "      <td>NaN</td>\n",
       "      <td>NaN</td>\n",
       "      <td>NaN</td>\n",
       "    </tr>\n",
       "    <tr>\n",
       "      <th>7</th>\n",
       "      <td>Arabica</td>\n",
       "      <td>ethiopia commodity exchange</td>\n",
       "      <td>Ethiopia</td>\n",
       "      <td>aolme</td>\n",
       "      <td>NaN</td>\n",
       "      <td>c.p.w.e</td>\n",
       "      <td>010/0338</td>\n",
       "      <td>NaN</td>\n",
       "      <td>1570-1700</td>\n",
       "      <td>oromia</td>\n",
       "      <td>...</td>\n",
       "      <td>NaN</td>\n",
       "      <td>0</td>\n",
       "      <td>September 2nd, 2011</td>\n",
       "      <td>Ethiopia Commodity Exchange</td>\n",
       "      <td>a176532400aebdc345cf3d870f84ed3ecab6249e</td>\n",
       "      <td>61bbaf6a9f341e5782b8e7bd3ebf76aac89fe24b</td>\n",
       "      <td>m</td>\n",
       "      <td>1570.0</td>\n",
       "      <td>1700.0</td>\n",
       "      <td>1635.0</td>\n",
       "    </tr>\n",
       "    <tr>\n",
       "      <th>8</th>\n",
       "      <td>Arabica</td>\n",
       "      <td>ethiopia commodity exchange</td>\n",
       "      <td>Ethiopia</td>\n",
       "      <td>aolme</td>\n",
       "      <td>NaN</td>\n",
       "      <td>c.p.w.e</td>\n",
       "      <td>010/0338</td>\n",
       "      <td>NaN</td>\n",
       "      <td>1570-1700</td>\n",
       "      <td>oromiya</td>\n",
       "      <td>...</td>\n",
       "      <td>NaN</td>\n",
       "      <td>0</td>\n",
       "      <td>September 2nd, 2011</td>\n",
       "      <td>Ethiopia Commodity Exchange</td>\n",
       "      <td>a176532400aebdc345cf3d870f84ed3ecab6249e</td>\n",
       "      <td>61bbaf6a9f341e5782b8e7bd3ebf76aac89fe24b</td>\n",
       "      <td>m</td>\n",
       "      <td>1570.0</td>\n",
       "      <td>1700.0</td>\n",
       "      <td>1635.0</td>\n",
       "    </tr>\n",
       "    <tr>\n",
       "      <th>9</th>\n",
       "      <td>Arabica</td>\n",
       "      <td>diamond enterprise plc</td>\n",
       "      <td>Ethiopia</td>\n",
       "      <td>tulla coffee farm</td>\n",
       "      <td>NaN</td>\n",
       "      <td>tulla coffee farm</td>\n",
       "      <td>2014/15</td>\n",
       "      <td>diamond enterprise plc</td>\n",
       "      <td>1795-1850</td>\n",
       "      <td>snnp/kaffa zone,gimbowereda</td>\n",
       "      <td>...</td>\n",
       "      <td>Green</td>\n",
       "      <td>4</td>\n",
       "      <td>March 29th, 2016</td>\n",
       "      <td>METAD Agricultural Development plc</td>\n",
       "      <td>309fcf77415a3661ae83e027f7e5f05dad786e44</td>\n",
       "      <td>19fef5a731de2db57d16da10287413f5f99bc2dd</td>\n",
       "      <td>m</td>\n",
       "      <td>1795.0</td>\n",
       "      <td>1850.0</td>\n",
       "      <td>1822.5</td>\n",
       "    </tr>\n",
       "  </tbody>\n",
       "</table>\n",
       "<p>10 rows × 43 columns</p>\n",
       "</div>"
      ],
      "text/plain": [
       "   Species                        Owner Country.of.Origin  \\\n",
       "0  Arabica                    metad plc          Ethiopia   \n",
       "1  Arabica                    metad plc          Ethiopia   \n",
       "2  Arabica     grounds for health admin         Guatemala   \n",
       "3  Arabica          yidnekachew dabessa          Ethiopia   \n",
       "4  Arabica                    metad plc          Ethiopia   \n",
       "5  Arabica                    ji-ae ahn            Brazil   \n",
       "6  Arabica                hugo valdivia              Peru   \n",
       "7  Arabica  ethiopia commodity exchange          Ethiopia   \n",
       "8  Arabica  ethiopia commodity exchange          Ethiopia   \n",
       "9  Arabica       diamond enterprise plc          Ethiopia   \n",
       "\n",
       "                                  Farm.Name Lot.Number               Mill  \\\n",
       "0                                 metad plc        NaN          metad plc   \n",
       "1                                 metad plc        NaN          metad plc   \n",
       "2  san marcos barrancas \"san cristobal cuch        NaN                NaN   \n",
       "3     yidnekachew dabessa coffee plantation        NaN            wolensu   \n",
       "4                                 metad plc        NaN          metad plc   \n",
       "5                                       NaN        NaN                NaN   \n",
       "6                                       NaN        NaN                hvc   \n",
       "7                                     aolme        NaN            c.p.w.e   \n",
       "8                                     aolme        NaN            c.p.w.e   \n",
       "9                         tulla coffee farm        NaN  tulla coffee farm   \n",
       "\n",
       "  ICO.Number                                Company       Altitude  \\\n",
       "0  2014/2015      metad agricultural developmet plc      1950-2200   \n",
       "1  2014/2015      metad agricultural developmet plc      1950-2200   \n",
       "2        NaN                                    NaN  1600 - 1800 m   \n",
       "3        NaN  yidnekachew debessa coffee plantation      1800-2200   \n",
       "4  2014/2015      metad agricultural developmet plc      1950-2200   \n",
       "5        NaN                                    NaN            NaN   \n",
       "6        NaN  richmond investment-coffee department            NaN   \n",
       "7   010/0338                                    NaN      1570-1700   \n",
       "8   010/0338                                    NaN      1570-1700   \n",
       "9    2014/15                 diamond enterprise plc      1795-1850   \n",
       "\n",
       "                        Region  ...         Color  Category.Two.Defects  \\\n",
       "0                 guji-hambela  ...         Green                     0   \n",
       "1                 guji-hambela  ...         Green                     1   \n",
       "2                          NaN  ...           NaN                     0   \n",
       "3                       oromia  ...         Green                     2   \n",
       "4                 guji-hambela  ...         Green                     2   \n",
       "5                          NaN  ...  Bluish-Green                     1   \n",
       "6                          NaN  ...  Bluish-Green                     0   \n",
       "7                       oromia  ...           NaN                     0   \n",
       "8                      oromiya  ...           NaN                     0   \n",
       "9  snnp/kaffa zone,gimbowereda  ...         Green                     4   \n",
       "\n",
       "             Expiration                  Certification.Body  \\\n",
       "0       April 3rd, 2016  METAD Agricultural Development plc   \n",
       "1       April 3rd, 2016  METAD Agricultural Development plc   \n",
       "2        May 31st, 2011        Specialty Coffee Association   \n",
       "3      March 25th, 2016  METAD Agricultural Development plc   \n",
       "4       April 3rd, 2016  METAD Agricultural Development plc   \n",
       "5   September 3rd, 2014  Specialty Coffee Institute of Asia   \n",
       "6  September 17th, 2013  Specialty Coffee Institute of Asia   \n",
       "7   September 2nd, 2011         Ethiopia Commodity Exchange   \n",
       "8   September 2nd, 2011         Ethiopia Commodity Exchange   \n",
       "9      March 29th, 2016  METAD Agricultural Development plc   \n",
       "\n",
       "                      Certification.Address  \\\n",
       "0  309fcf77415a3661ae83e027f7e5f05dad786e44   \n",
       "1  309fcf77415a3661ae83e027f7e5f05dad786e44   \n",
       "2  36d0d00a3724338ba7937c52a378d085f2172daa   \n",
       "3  309fcf77415a3661ae83e027f7e5f05dad786e44   \n",
       "4  309fcf77415a3661ae83e027f7e5f05dad786e44   \n",
       "5  726e4891cf2c9a4848768bd34b668124d12c4224   \n",
       "6  726e4891cf2c9a4848768bd34b668124d12c4224   \n",
       "7  a176532400aebdc345cf3d870f84ed3ecab6249e   \n",
       "8  a176532400aebdc345cf3d870f84ed3ecab6249e   \n",
       "9  309fcf77415a3661ae83e027f7e5f05dad786e44   \n",
       "\n",
       "                      Certification.Contact unit_of_measurement  \\\n",
       "0  19fef5a731de2db57d16da10287413f5f99bc2dd                   m   \n",
       "1  19fef5a731de2db57d16da10287413f5f99bc2dd                   m   \n",
       "2  0878a7d4b9d35ddbf0fe2ce69a2062cceb45a660                   m   \n",
       "3  19fef5a731de2db57d16da10287413f5f99bc2dd                   m   \n",
       "4  19fef5a731de2db57d16da10287413f5f99bc2dd                   m   \n",
       "5  b70da261fcc84831e3e9620c30a8701540abc200                   m   \n",
       "6  b70da261fcc84831e3e9620c30a8701540abc200                   m   \n",
       "7  61bbaf6a9f341e5782b8e7bd3ebf76aac89fe24b                   m   \n",
       "8  61bbaf6a9f341e5782b8e7bd3ebf76aac89fe24b                   m   \n",
       "9  19fef5a731de2db57d16da10287413f5f99bc2dd                   m   \n",
       "\n",
       "  altitude_low_meters altitude_high_meters  altitude_mean_meters  \n",
       "0              1950.0               2200.0                2075.0  \n",
       "1              1950.0               2200.0                2075.0  \n",
       "2              1600.0               1800.0                1700.0  \n",
       "3              1800.0               2200.0                2000.0  \n",
       "4              1950.0               2200.0                2075.0  \n",
       "5                 NaN                  NaN                   NaN  \n",
       "6                 NaN                  NaN                   NaN  \n",
       "7              1570.0               1700.0                1635.0  \n",
       "8              1570.0               1700.0                1635.0  \n",
       "9              1795.0               1850.0                1822.5  \n",
       "\n",
       "[10 rows x 43 columns]"
      ]
     },
     "execution_count": 6,
     "metadata": {},
     "output_type": "execute_result"
    }
   ],
   "source": [
    "df_main.head(10)"
   ]
  },
  {
   "cell_type": "code",
   "execution_count": 7,
   "metadata": {},
   "outputs": [
    {
     "data": {
      "text/plain": [
       "Index(['Species', 'Owner', 'Country.of.Origin', 'Farm.Name', 'Lot.Number',\n",
       "       'Mill', 'ICO.Number', 'Company', 'Altitude', 'Region', 'Producer',\n",
       "       'Number.of.Bags', 'Bag.Weight', 'In.Country.Partner', 'Harvest.Year',\n",
       "       'Grading.Date', 'Owner.1', 'Variety', 'Processing.Method', 'Aroma',\n",
       "       'Flavor', 'Aftertaste', 'Acidity', 'Body', 'Balance', 'Uniformity',\n",
       "       'Clean.Cup', 'Sweetness', 'Cupper.Points', 'Total.Cup.Points',\n",
       "       'Moisture', 'Category.One.Defects', 'Quakers', 'Color',\n",
       "       'Category.Two.Defects', 'Expiration', 'Certification.Body',\n",
       "       'Certification.Address', 'Certification.Contact', 'unit_of_measurement',\n",
       "       'altitude_low_meters', 'altitude_high_meters', 'altitude_mean_meters'],\n",
       "      dtype='object')"
      ]
     },
     "execution_count": 7,
     "metadata": {},
     "output_type": "execute_result"
    }
   ],
   "source": [
    "df_main.columns"
   ]
  },
  {
   "cell_type": "markdown",
   "metadata": {},
   "source": [
    "Generación de reporte HTML"
   ]
  },
  {
   "cell_type": "code",
   "execution_count": 8,
   "metadata": {},
   "outputs": [],
   "source": [
    "profile = ProfileReport(df_main, title='Pandas Profiling Report', explorative=True)"
   ]
  },
  {
   "cell_type": "code",
   "execution_count": 9,
   "metadata": {},
   "outputs": [],
   "source": [
    "# profile.to_file('../data/reports/merged_data_cleaned.html')"
   ]
  },
  {
   "cell_type": "markdown",
   "metadata": {},
   "source": [
    "Renombrar columnas a usar"
   ]
  },
  {
   "cell_type": "code",
   "execution_count": 10,
   "metadata": {},
   "outputs": [
    {
     "data": {
      "text/plain": [
       "Index(['Species', 'Owner', 'Country_of_Origin', 'Farm.Name', 'Lot.Number',\n",
       "       'Mill', 'ICO_number', 'Company', 'Altitude', 'Region', 'Producer',\n",
       "       'Number_of_Bags', 'Bag_Weight', 'In.Country.Partner', 'Harvest_Year',\n",
       "       'Grading_Date', 'Owner_1', 'Variety', 'Processing_Method', 'Aroma',\n",
       "       'Flavor', 'Aftertaste', 'Acidity', 'Body', 'Balance', 'Uniformity',\n",
       "       'Clean_Cup', 'Sweetness', 'Cupper_Points', 'Total_Cup_Points',\n",
       "       'Moisture', 'Category_One_Defects', 'Quakers', 'Color',\n",
       "       'Category_Two_Defects', 'Expiration', 'Certification_Body',\n",
       "       'Certification_Address', 'Certification_Contact', 'unit_of_measurement',\n",
       "       'altitude_low_meters', 'altitude_high_meters', 'altitude_mean_meters'],\n",
       "      dtype='object')"
      ]
     },
     "execution_count": 10,
     "metadata": {},
     "output_type": "execute_result"
    }
   ],
   "source": [
    "df_main.rename(columns={'Country.of.Origin': 'Country_of_Origin',\n",
    "       'ICO.Number':'ICO_number', 'Number.of.Bags': 'Number_of_Bags', 'Bag.Weight': 'Bag_Weight', \n",
    "       'Harvest.Year':'Harvest_Year', 'Grading.Date': 'Grading_Date', 'Owner.1':'Owner_1', \n",
    "       'Processing.Method': 'Processing_Method', 'Clean.Cup':'Clean_Cup','Cupper.Points':'Cupper_Points', \n",
    "       'Total.Cup.Points': 'Total_Cup_Points', 'Category.One.Defects':'Category_One_Defects',\n",
    "       'Category.Two.Defects':'Category_Two_Defects', 'Certification.Body': 'Certification_Body',\n",
    "       'Certification.Address':'Certification_Address', 'Certification.Contact': 'Certification_Contact'},inplace=True)\n",
    "\n",
    "df_main.columns"
   ]
  },
  {
   "cell_type": "markdown",
   "metadata": {},
   "source": [
    "Seleccion de variables a usar"
   ]
  },
  {
   "cell_type": "code",
   "execution_count": 11,
   "metadata": {},
   "outputs": [],
   "source": [
    "columns_use = ['Species', 'Variety', 'Country_of_Origin',\n",
    "       'Mill', 'ICO_number', 'Company', 'Region', 'Producer',\n",
    "       'Number_of_Bags', 'Bag_Weight', 'Harvest_Year',\n",
    "       'Grading_Date', 'Owner_1', 'Processing_Method', 'Aroma',\n",
    "       'Flavor', 'Aftertaste', 'Acidity', 'Body', 'Balance', 'Uniformity',\n",
    "       'Clean_Cup', 'Sweetness', 'Cupper_Points', 'Total_Cup_Points',\n",
    "       'Moisture', 'Quakers', 'Color', 'Category_One_Defects',\n",
    "       'Category_Two_Defects', 'Expiration', 'Certification_Body', 'unit_of_measurement',\n",
    "       'altitude_low_meters', 'altitude_high_meters', 'altitude_mean_meters', 'Altitude']"
   ]
  },
  {
   "cell_type": "code",
   "execution_count": 12,
   "metadata": {},
   "outputs": [],
   "source": [
    "# Renombrar el dataframe con las variables a usar\n",
    "df_main = df_main[columns_use]"
   ]
  },
  {
   "cell_type": "markdown",
   "metadata": {},
   "source": [
    "## Preguntas de Exploración\n",
    "\n",
    "Variedades del Café\n",
    "1. Cuales son las 8 Variedades de Café que más se siembran el mundo?\n",
    "    - Cual es la distribución geográfica de las 8 variedades más sembradas?\n",
    "2. Cuanto es la humedad promedio por Variedad?\n",
    "\n",
    "Calidad del Café\n",
    "1. La altitud del café impacta con el sabor?\n",
    "2. La altitud del café impacta con la calidad del café?\n",
    "3. Cuales son las 5 mejores variedades de café, de acuerdo a la puntuación del catador?\n",
    "\n",
    "Calidad del Café Peruano\n",
    "1. En que puesto se encuentra el café peruano con respecto a las demás variedades?\n",
    "2. El café peruano se encuentra dentro de los mejores cafés de acuerdo a los rangos de la de la Specialty Coffee Association  (SCAA)?"
   ]
  },
  {
   "cell_type": "markdown",
   "metadata": {},
   "source": [
    "### Limpieza de la data"
   ]
  },
  {
   "cell_type": "markdown",
   "metadata": {},
   "source": [
    "Eliminando algunas variables"
   ]
  },
  {
   "cell_type": "code",
   "execution_count": 13,
   "metadata": {},
   "outputs": [
    {
     "data": {
      "text/html": [
       "<div>\n",
       "<style scoped>\n",
       "    .dataframe tbody tr th:only-of-type {\n",
       "        vertical-align: middle;\n",
       "    }\n",
       "\n",
       "    .dataframe tbody tr th {\n",
       "        vertical-align: top;\n",
       "    }\n",
       "\n",
       "    .dataframe thead th {\n",
       "        text-align: right;\n",
       "    }\n",
       "</style>\n",
       "<table border=\"1\" class=\"dataframe\">\n",
       "  <thead>\n",
       "    <tr style=\"text-align: right;\">\n",
       "      <th></th>\n",
       "      <th>1197</th>\n",
       "    </tr>\n",
       "  </thead>\n",
       "  <tbody>\n",
       "    <tr>\n",
       "      <th>Species</th>\n",
       "      <td>Arabica</td>\n",
       "    </tr>\n",
       "    <tr>\n",
       "      <th>Variety</th>\n",
       "      <td>NaN</td>\n",
       "    </tr>\n",
       "    <tr>\n",
       "      <th>Country_of_Origin</th>\n",
       "      <td>NaN</td>\n",
       "    </tr>\n",
       "    <tr>\n",
       "      <th>Mill</th>\n",
       "      <td>NaN</td>\n",
       "    </tr>\n",
       "    <tr>\n",
       "      <th>ICO_number</th>\n",
       "      <td>3-37-1980</td>\n",
       "    </tr>\n",
       "    <tr>\n",
       "      <th>Company</th>\n",
       "      <td>NaN</td>\n",
       "    </tr>\n",
       "    <tr>\n",
       "      <th>Region</th>\n",
       "      <td>NaN</td>\n",
       "    </tr>\n",
       "    <tr>\n",
       "      <th>Producer</th>\n",
       "      <td>NaN</td>\n",
       "    </tr>\n",
       "    <tr>\n",
       "      <th>Number_of_Bags</th>\n",
       "      <td>149</td>\n",
       "    </tr>\n",
       "    <tr>\n",
       "      <th>Bag_Weight</th>\n",
       "      <td>70 kg</td>\n",
       "    </tr>\n",
       "    <tr>\n",
       "      <th>Harvest_Year</th>\n",
       "      <td>NaN</td>\n",
       "    </tr>\n",
       "    <tr>\n",
       "      <th>Grading_Date</th>\n",
       "      <td>March 1st, 2011</td>\n",
       "    </tr>\n",
       "    <tr>\n",
       "      <th>Owner_1</th>\n",
       "      <td>Racafe &amp; Cia S.C.A</td>\n",
       "    </tr>\n",
       "    <tr>\n",
       "      <th>Processing_Method</th>\n",
       "      <td>NaN</td>\n",
       "    </tr>\n",
       "    <tr>\n",
       "      <th>Aroma</th>\n",
       "      <td>6.75</td>\n",
       "    </tr>\n",
       "    <tr>\n",
       "      <th>Flavor</th>\n",
       "      <td>6.75</td>\n",
       "    </tr>\n",
       "    <tr>\n",
       "      <th>Aftertaste</th>\n",
       "      <td>6.42</td>\n",
       "    </tr>\n",
       "    <tr>\n",
       "      <th>Acidity</th>\n",
       "      <td>6.83</td>\n",
       "    </tr>\n",
       "    <tr>\n",
       "      <th>Body</th>\n",
       "      <td>7.58</td>\n",
       "    </tr>\n",
       "    <tr>\n",
       "      <th>Balance</th>\n",
       "      <td>7.5</td>\n",
       "    </tr>\n",
       "    <tr>\n",
       "      <th>Uniformity</th>\n",
       "      <td>10.0</td>\n",
       "    </tr>\n",
       "    <tr>\n",
       "      <th>Clean_Cup</th>\n",
       "      <td>10.0</td>\n",
       "    </tr>\n",
       "    <tr>\n",
       "      <th>Sweetness</th>\n",
       "      <td>10.0</td>\n",
       "    </tr>\n",
       "    <tr>\n",
       "      <th>Cupper_Points</th>\n",
       "      <td>7.25</td>\n",
       "    </tr>\n",
       "    <tr>\n",
       "      <th>Total_Cup_Points</th>\n",
       "      <td>79.08</td>\n",
       "    </tr>\n",
       "    <tr>\n",
       "      <th>Moisture</th>\n",
       "      <td>0.1</td>\n",
       "    </tr>\n",
       "    <tr>\n",
       "      <th>Quakers</th>\n",
       "      <td>0.0</td>\n",
       "    </tr>\n",
       "    <tr>\n",
       "      <th>Color</th>\n",
       "      <td>NaN</td>\n",
       "    </tr>\n",
       "    <tr>\n",
       "      <th>Category_One_Defects</th>\n",
       "      <td>0</td>\n",
       "    </tr>\n",
       "    <tr>\n",
       "      <th>Category_Two_Defects</th>\n",
       "      <td>3</td>\n",
       "    </tr>\n",
       "    <tr>\n",
       "      <th>Expiration</th>\n",
       "      <td>February 29th, 2012</td>\n",
       "    </tr>\n",
       "    <tr>\n",
       "      <th>Certification_Body</th>\n",
       "      <td>Almacafé</td>\n",
       "    </tr>\n",
       "    <tr>\n",
       "      <th>unit_of_measurement</th>\n",
       "      <td>m</td>\n",
       "    </tr>\n",
       "    <tr>\n",
       "      <th>altitude_low_meters</th>\n",
       "      <td>NaN</td>\n",
       "    </tr>\n",
       "    <tr>\n",
       "      <th>altitude_high_meters</th>\n",
       "      <td>NaN</td>\n",
       "    </tr>\n",
       "    <tr>\n",
       "      <th>altitude_mean_meters</th>\n",
       "      <td>NaN</td>\n",
       "    </tr>\n",
       "    <tr>\n",
       "      <th>Altitude</th>\n",
       "      <td>NaN</td>\n",
       "    </tr>\n",
       "  </tbody>\n",
       "</table>\n",
       "</div>"
      ],
      "text/plain": [
       "                                     1197\n",
       "Species                           Arabica\n",
       "Variety                               NaN\n",
       "Country_of_Origin                     NaN\n",
       "Mill                                  NaN\n",
       "ICO_number                      3-37-1980\n",
       "Company                               NaN\n",
       "Region                                NaN\n",
       "Producer                              NaN\n",
       "Number_of_Bags                        149\n",
       "Bag_Weight                          70 kg\n",
       "Harvest_Year                          NaN\n",
       "Grading_Date              March 1st, 2011\n",
       "Owner_1                Racafe & Cia S.C.A\n",
       "Processing_Method                     NaN\n",
       "Aroma                                6.75\n",
       "Flavor                               6.75\n",
       "Aftertaste                           6.42\n",
       "Acidity                              6.83\n",
       "Body                                 7.58\n",
       "Balance                               7.5\n",
       "Uniformity                           10.0\n",
       "Clean_Cup                            10.0\n",
       "Sweetness                            10.0\n",
       "Cupper_Points                        7.25\n",
       "Total_Cup_Points                    79.08\n",
       "Moisture                              0.1\n",
       "Quakers                               0.0\n",
       "Color                                 NaN\n",
       "Category_One_Defects                    0\n",
       "Category_Two_Defects                    3\n",
       "Expiration            February 29th, 2012\n",
       "Certification_Body               Almacafé\n",
       "unit_of_measurement                     m\n",
       "altitude_low_meters                   NaN\n",
       "altitude_high_meters                  NaN\n",
       "altitude_mean_meters                  NaN\n",
       "Altitude                              NaN"
      ]
     },
     "execution_count": 13,
     "metadata": {},
     "output_type": "execute_result"
    }
   ],
   "source": [
    "df_main[df_main['Country_of_Origin'].isna()].transpose()"
   ]
  },
  {
   "cell_type": "code",
   "execution_count": 14,
   "metadata": {},
   "outputs": [],
   "source": [
    "# la fila ha sido eliminada porque tiene muchos valores vacíos y Total_Cup_Points está por debajo de 80 puntos\n",
    "df_main = df_main.drop(index=1197)"
   ]
  },
  {
   "cell_type": "markdown",
   "metadata": {},
   "source": [
    "ahora me queda 1338 filas"
   ]
  },
  {
   "cell_type": "code",
   "execution_count": 15,
   "metadata": {},
   "outputs": [
    {
     "name": "stdout",
     "output_type": "stream",
     "text": [
      "Brazil\n",
      "Burundi\n",
      "China\n",
      "Colombia\n",
      "Costa Rica\n",
      "Cote d?Ivoire\n",
      "Ecuador\n",
      "El Salvador\n",
      "Ethiopia\n",
      "Guatemala\n",
      "Haiti\n",
      "Honduras\n",
      "India\n",
      "Indonesia\n",
      "Japan\n",
      "Kenya\n",
      "Laos\n",
      "Malawi\n",
      "Mauritius\n",
      "Mexico\n",
      "Myanmar\n",
      "Nicaragua\n",
      "Panama\n",
      "Papua New Guinea\n",
      "Peru\n",
      "Philippines\n",
      "Rwanda\n",
      "Taiwan\n",
      "Tanzania, United Republic Of\n",
      "Thailand\n",
      "Uganda\n",
      "United States\n",
      "United States (Hawaii)\n",
      "United States (Puerto Rico)\n",
      "Vietnam\n",
      "Zambia\n"
     ]
    }
   ],
   "source": [
    "# Seleccionar los países que no se repitan y convertirlos a str\n",
    "# luego convertirlo en una lista\n",
    "df_paises = df_main.Country_of_Origin.unique().astype(str).tolist()\n",
    "#Ordenar la lista de paises\n",
    "for i in sorted(df_paises):\n",
    "    print(i)"
   ]
  },
  {
   "cell_type": "code",
   "execution_count": 16,
   "metadata": {},
   "outputs": [],
   "source": [
    "# función para gráficos para variable numérica\n",
    "\n",
    "def diagnostic_numerico_plot(df, variable):\n",
    "    # Define el tamaño de la grafica\n",
    "    \n",
    "    # Histograma\n",
    "    plt.subplot(1,2,1)\n",
    "    sns.histplot(df[variable], bins = 30)\n",
    "    plt.title('Histograma')\n",
    "    \n",
    "    # Grafica de Caja\n",
    "    plt.subplot(1,2,2)\n",
    "    sns.boxplot(y=df[variable])\n",
    "    plt.title('Grafico de Cajas')\n",
    "\n",
    "    df[variable].info()\n"
   ]
  },
  {
   "cell_type": "code",
   "execution_count": 17,
   "metadata": {},
   "outputs": [],
   "source": [
    "# función para gráfico para variables categóricas\n",
    "\n",
    "def diagnostic_categorico_plot(df,variable,titulo_graf):\n",
    "    df[variable].value_counts().plot(kind='barh',title=titulo_graf)\n"
   ]
  },
  {
   "cell_type": "code",
   "execution_count": 18,
   "metadata": {},
   "outputs": [],
   "source": [
    "# Columnas relevantes para eliminar o remplazar outliers\n",
    "columnas_analisis_outliers_nan = ['Species','Variety','Country_of_Origin',\n",
    "                                    'altitude_mean_meters','Total_Cup_Points']"
   ]
  },
  {
   "cell_type": "code",
   "execution_count": 19,
   "metadata": {},
   "outputs": [
    {
     "data": {
      "text/html": [
       "<div>\n",
       "<style scoped>\n",
       "    .dataframe tbody tr th:only-of-type {\n",
       "        vertical-align: middle;\n",
       "    }\n",
       "\n",
       "    .dataframe tbody tr th {\n",
       "        vertical-align: top;\n",
       "    }\n",
       "\n",
       "    .dataframe thead th {\n",
       "        text-align: right;\n",
       "    }\n",
       "</style>\n",
       "<table border=\"1\" class=\"dataframe\">\n",
       "  <thead>\n",
       "    <tr style=\"text-align: right;\">\n",
       "      <th></th>\n",
       "      <th>Species</th>\n",
       "      <th>Variety</th>\n",
       "      <th>Country_of_Origin</th>\n",
       "      <th>altitude_mean_meters</th>\n",
       "      <th>Total_Cup_Points</th>\n",
       "    </tr>\n",
       "  </thead>\n",
       "  <tbody>\n",
       "    <tr>\n",
       "      <th>0</th>\n",
       "      <td>Arabica</td>\n",
       "      <td>NaN</td>\n",
       "      <td>Ethiopia</td>\n",
       "      <td>2075.0</td>\n",
       "      <td>90.58</td>\n",
       "    </tr>\n",
       "    <tr>\n",
       "      <th>1</th>\n",
       "      <td>Arabica</td>\n",
       "      <td>Other</td>\n",
       "      <td>Ethiopia</td>\n",
       "      <td>2075.0</td>\n",
       "      <td>89.92</td>\n",
       "    </tr>\n",
       "    <tr>\n",
       "      <th>2</th>\n",
       "      <td>Arabica</td>\n",
       "      <td>Bourbon</td>\n",
       "      <td>Guatemala</td>\n",
       "      <td>1700.0</td>\n",
       "      <td>89.75</td>\n",
       "    </tr>\n",
       "    <tr>\n",
       "      <th>3</th>\n",
       "      <td>Arabica</td>\n",
       "      <td>NaN</td>\n",
       "      <td>Ethiopia</td>\n",
       "      <td>2000.0</td>\n",
       "      <td>89.00</td>\n",
       "    </tr>\n",
       "    <tr>\n",
       "      <th>4</th>\n",
       "      <td>Arabica</td>\n",
       "      <td>Other</td>\n",
       "      <td>Ethiopia</td>\n",
       "      <td>2075.0</td>\n",
       "      <td>88.83</td>\n",
       "    </tr>\n",
       "    <tr>\n",
       "      <th>...</th>\n",
       "      <td>...</td>\n",
       "      <td>...</td>\n",
       "      <td>...</td>\n",
       "      <td>...</td>\n",
       "      <td>...</td>\n",
       "    </tr>\n",
       "    <tr>\n",
       "      <th>1328</th>\n",
       "      <td>Robusta</td>\n",
       "      <td>NaN</td>\n",
       "      <td>Uganda</td>\n",
       "      <td>1600.0</td>\n",
       "      <td>80.92</td>\n",
       "    </tr>\n",
       "    <tr>\n",
       "      <th>1329</th>\n",
       "      <td>Robusta</td>\n",
       "      <td>NaN</td>\n",
       "      <td>Uganda</td>\n",
       "      <td>1745.0</td>\n",
       "      <td>80.58</td>\n",
       "    </tr>\n",
       "    <tr>\n",
       "      <th>1330</th>\n",
       "      <td>Robusta</td>\n",
       "      <td>NaN</td>\n",
       "      <td>Uganda</td>\n",
       "      <td>1200.0</td>\n",
       "      <td>80.50</td>\n",
       "    </tr>\n",
       "    <tr>\n",
       "      <th>1331</th>\n",
       "      <td>Robusta</td>\n",
       "      <td>NaN</td>\n",
       "      <td>India</td>\n",
       "      <td>750.0</td>\n",
       "      <td>80.17</td>\n",
       "    </tr>\n",
       "    <tr>\n",
       "      <th>1332</th>\n",
       "      <td>Robusta</td>\n",
       "      <td>NaN</td>\n",
       "      <td>India</td>\n",
       "      <td>750.0</td>\n",
       "      <td>80.17</td>\n",
       "    </tr>\n",
       "  </tbody>\n",
       "</table>\n",
       "<p>1152 rows × 5 columns</p>\n",
       "</div>"
      ],
      "text/plain": [
       "      Species  Variety Country_of_Origin  altitude_mean_meters  \\\n",
       "0     Arabica      NaN          Ethiopia                2075.0   \n",
       "1     Arabica    Other          Ethiopia                2075.0   \n",
       "2     Arabica  Bourbon         Guatemala                1700.0   \n",
       "3     Arabica      NaN          Ethiopia                2000.0   \n",
       "4     Arabica    Other          Ethiopia                2075.0   \n",
       "...       ...      ...               ...                   ...   \n",
       "1328  Robusta      NaN            Uganda                1600.0   \n",
       "1329  Robusta      NaN            Uganda                1745.0   \n",
       "1330  Robusta      NaN            Uganda                1200.0   \n",
       "1331  Robusta      NaN             India                 750.0   \n",
       "1332  Robusta      NaN             India                 750.0   \n",
       "\n",
       "      Total_Cup_Points  \n",
       "0                90.58  \n",
       "1                89.92  \n",
       "2                89.75  \n",
       "3                89.00  \n",
       "4                88.83  \n",
       "...                ...  \n",
       "1328             80.92  \n",
       "1329             80.58  \n",
       "1330             80.50  \n",
       "1331             80.17  \n",
       "1332             80.17  \n",
       "\n",
       "[1152 rows x 5 columns]"
      ]
     },
     "execution_count": 19,
     "metadata": {},
     "output_type": "execute_result"
    }
   ],
   "source": [
    "# Filtrar la puntuación del café(Total_Cup_Points) mayores a 80 que el catador construye.\n",
    "Total_Cup_Points_mayor80 = df_main[df_main.Total_Cup_Points >= 80 ][columnas_analisis_outliers_nan]\n",
    "Total_Cup_Points_mayor80 "
   ]
  },
  {
   "cell_type": "markdown",
   "metadata": {},
   "source": [
    "Analisis para la columna \"Variety\" que contiene filas con NaN "
   ]
  },
  {
   "cell_type": "code",
   "execution_count": 20,
   "metadata": {},
   "outputs": [
    {
     "data": {
      "text/html": [
       "<div>\n",
       "<style scoped>\n",
       "    .dataframe tbody tr th:only-of-type {\n",
       "        vertical-align: middle;\n",
       "    }\n",
       "\n",
       "    .dataframe tbody tr th {\n",
       "        vertical-align: top;\n",
       "    }\n",
       "\n",
       "    .dataframe thead th {\n",
       "        text-align: right;\n",
       "    }\n",
       "</style>\n",
       "<table border=\"1\" class=\"dataframe\">\n",
       "  <thead>\n",
       "    <tr style=\"text-align: right;\">\n",
       "      <th></th>\n",
       "      <th>Species</th>\n",
       "      <th>Variety</th>\n",
       "      <th>Country_of_Origin</th>\n",
       "      <th>altitude_mean_meters</th>\n",
       "      <th>Total_Cup_Points</th>\n",
       "    </tr>\n",
       "  </thead>\n",
       "  <tbody>\n",
       "    <tr>\n",
       "      <th>0</th>\n",
       "      <td>Arabica</td>\n",
       "      <td>NaN</td>\n",
       "      <td>Ethiopia</td>\n",
       "      <td>2075.0</td>\n",
       "      <td>90.58</td>\n",
       "    </tr>\n",
       "    <tr>\n",
       "      <th>3</th>\n",
       "      <td>Arabica</td>\n",
       "      <td>NaN</td>\n",
       "      <td>Ethiopia</td>\n",
       "      <td>2000.0</td>\n",
       "      <td>89.00</td>\n",
       "    </tr>\n",
       "    <tr>\n",
       "      <th>5</th>\n",
       "      <td>Arabica</td>\n",
       "      <td>NaN</td>\n",
       "      <td>Brazil</td>\n",
       "      <td>NaN</td>\n",
       "      <td>88.83</td>\n",
       "    </tr>\n",
       "    <tr>\n",
       "      <th>7</th>\n",
       "      <td>Arabica</td>\n",
       "      <td>NaN</td>\n",
       "      <td>Ethiopia</td>\n",
       "      <td>1635.0</td>\n",
       "      <td>88.67</td>\n",
       "    </tr>\n",
       "    <tr>\n",
       "      <th>8</th>\n",
       "      <td>Arabica</td>\n",
       "      <td>NaN</td>\n",
       "      <td>Ethiopia</td>\n",
       "      <td>1635.0</td>\n",
       "      <td>88.42</td>\n",
       "    </tr>\n",
       "    <tr>\n",
       "      <th>...</th>\n",
       "      <td>...</td>\n",
       "      <td>...</td>\n",
       "      <td>...</td>\n",
       "      <td>...</td>\n",
       "      <td>...</td>\n",
       "    </tr>\n",
       "    <tr>\n",
       "      <th>1328</th>\n",
       "      <td>Robusta</td>\n",
       "      <td>NaN</td>\n",
       "      <td>Uganda</td>\n",
       "      <td>1600.0</td>\n",
       "      <td>80.92</td>\n",
       "    </tr>\n",
       "    <tr>\n",
       "      <th>1329</th>\n",
       "      <td>Robusta</td>\n",
       "      <td>NaN</td>\n",
       "      <td>Uganda</td>\n",
       "      <td>1745.0</td>\n",
       "      <td>80.58</td>\n",
       "    </tr>\n",
       "    <tr>\n",
       "      <th>1330</th>\n",
       "      <td>Robusta</td>\n",
       "      <td>NaN</td>\n",
       "      <td>Uganda</td>\n",
       "      <td>1200.0</td>\n",
       "      <td>80.50</td>\n",
       "    </tr>\n",
       "    <tr>\n",
       "      <th>1331</th>\n",
       "      <td>Robusta</td>\n",
       "      <td>NaN</td>\n",
       "      <td>India</td>\n",
       "      <td>750.0</td>\n",
       "      <td>80.17</td>\n",
       "    </tr>\n",
       "    <tr>\n",
       "      <th>1332</th>\n",
       "      <td>Robusta</td>\n",
       "      <td>NaN</td>\n",
       "      <td>India</td>\n",
       "      <td>750.0</td>\n",
       "      <td>80.17</td>\n",
       "    </tr>\n",
       "  </tbody>\n",
       "</table>\n",
       "<p>195 rows × 5 columns</p>\n",
       "</div>"
      ],
      "text/plain": [
       "      Species Variety Country_of_Origin  altitude_mean_meters  \\\n",
       "0     Arabica     NaN          Ethiopia                2075.0   \n",
       "3     Arabica     NaN          Ethiopia                2000.0   \n",
       "5     Arabica     NaN            Brazil                   NaN   \n",
       "7     Arabica     NaN          Ethiopia                1635.0   \n",
       "8     Arabica     NaN          Ethiopia                1635.0   \n",
       "...       ...     ...               ...                   ...   \n",
       "1328  Robusta     NaN            Uganda                1600.0   \n",
       "1329  Robusta     NaN            Uganda                1745.0   \n",
       "1330  Robusta     NaN            Uganda                1200.0   \n",
       "1331  Robusta     NaN             India                 750.0   \n",
       "1332  Robusta     NaN             India                 750.0   \n",
       "\n",
       "      Total_Cup_Points  \n",
       "0                90.58  \n",
       "3                89.00  \n",
       "5                88.83  \n",
       "7                88.67  \n",
       "8                88.42  \n",
       "...                ...  \n",
       "1328             80.92  \n",
       "1329             80.58  \n",
       "1330             80.50  \n",
       "1331             80.17  \n",
       "1332             80.17  \n",
       "\n",
       "[195 rows x 5 columns]"
      ]
     },
     "execution_count": 20,
     "metadata": {},
     "output_type": "execute_result"
    }
   ],
   "source": [
    "# Filtrar del Dataframe anterior(Puntuación del cafe >=80) los valores NaN de la columna \"Variety\"\n",
    "Total_Cup_Points_mayor80[Total_Cup_Points_mayor80['Variety'].isna()]"
   ]
  },
  {
   "cell_type": "markdown",
   "metadata": {},
   "source": [
    "Debido a que la cantidad de variedades con NaN es alta y se encuentran dentro de los mejores Puntuaciones le pondremos el valor de la categoría \"other_2\""
   ]
  },
  {
   "cell_type": "code",
   "execution_count": 21,
   "metadata": {},
   "outputs": [],
   "source": [
    "df_main['Variety'] = df_main['Variety'].replace(np.nan,\"Other_2\")"
   ]
  },
  {
   "cell_type": "markdown",
   "metadata": {},
   "source": [
    "Cambiando de una avriables categórica a Numérica"
   ]
  },
  {
   "cell_type": "code",
   "execution_count": 22,
   "metadata": {},
   "outputs": [],
   "source": [
    "# Columnas relevantes para eliminar o remplazar outliers de altitud\n",
    "columnas_altitud= ['Species','Variety','Country_of_Origin', 'Company', 'Altitude',\n",
    "                    'altitude_low_meters', 'altitude_high_meters', 'altitude_mean_meters']\n"
   ]
  },
  {
   "cell_type": "markdown",
   "metadata": {},
   "source": [
    "Encontrando algunos Outliers"
   ]
  },
  {
   "cell_type": "code",
   "execution_count": 23,
   "metadata": {},
   "outputs": [
    {
     "data": {
      "text/html": [
       "<div>\n",
       "<style scoped>\n",
       "    .dataframe tbody tr th:only-of-type {\n",
       "        vertical-align: middle;\n",
       "    }\n",
       "\n",
       "    .dataframe tbody tr th {\n",
       "        vertical-align: top;\n",
       "    }\n",
       "\n",
       "    .dataframe thead th {\n",
       "        text-align: right;\n",
       "    }\n",
       "</style>\n",
       "<table border=\"1\" class=\"dataframe\">\n",
       "  <thead>\n",
       "    <tr style=\"text-align: right;\">\n",
       "      <th></th>\n",
       "      <th>Species</th>\n",
       "      <th>Variety</th>\n",
       "      <th>Country_of_Origin</th>\n",
       "      <th>Company</th>\n",
       "      <th>Altitude</th>\n",
       "      <th>altitude_low_meters</th>\n",
       "      <th>altitude_high_meters</th>\n",
       "      <th>altitude_mean_meters</th>\n",
       "    </tr>\n",
       "  </thead>\n",
       "  <tbody>\n",
       "    <tr>\n",
       "      <th>896</th>\n",
       "      <td>Arabica</td>\n",
       "      <td>Bourbon</td>\n",
       "      <td>Guatemala</td>\n",
       "      <td>unex guatemala, s.a.</td>\n",
       "      <td>190164</td>\n",
       "      <td>190164.0</td>\n",
       "      <td>190164.0</td>\n",
       "      <td>190164.0</td>\n",
       "    </tr>\n",
       "    <tr>\n",
       "      <th>1144</th>\n",
       "      <td>Arabica</td>\n",
       "      <td>Bourbon</td>\n",
       "      <td>Guatemala</td>\n",
       "      <td>unex guatemala, s.a.</td>\n",
       "      <td>1901.64</td>\n",
       "      <td>190164.0</td>\n",
       "      <td>190164.0</td>\n",
       "      <td>190164.0</td>\n",
       "    </tr>\n",
       "    <tr>\n",
       "      <th>1040</th>\n",
       "      <td>Arabica</td>\n",
       "      <td>Other</td>\n",
       "      <td>Nicaragua</td>\n",
       "      <td>comercial internacional exportadora, s.a.</td>\n",
       "      <td>1100.00 mosl</td>\n",
       "      <td>110000.0</td>\n",
       "      <td>110000.0</td>\n",
       "      <td>110000.0</td>\n",
       "    </tr>\n",
       "    <tr>\n",
       "      <th>543</th>\n",
       "      <td>Arabica</td>\n",
       "      <td>Moka Peaberry</td>\n",
       "      <td>Brazil</td>\n",
       "      <td>expocaccer</td>\n",
       "      <td>11000 metros</td>\n",
       "      <td>11000.0</td>\n",
       "      <td>11000.0</td>\n",
       "      <td>11000.0</td>\n",
       "    </tr>\n",
       "    <tr>\n",
       "      <th>1098</th>\n",
       "      <td>Arabica</td>\n",
       "      <td>Catuai</td>\n",
       "      <td>Myanmar</td>\n",
       "      <td>NaN</td>\n",
       "      <td>4287</td>\n",
       "      <td>4287.0</td>\n",
       "      <td>4287.0</td>\n",
       "      <td>4287.0</td>\n",
       "    </tr>\n",
       "    <tr>\n",
       "      <th>840</th>\n",
       "      <td>Arabica</td>\n",
       "      <td>Catuai</td>\n",
       "      <td>Myanmar</td>\n",
       "      <td>NaN</td>\n",
       "      <td>4001</td>\n",
       "      <td>4001.0</td>\n",
       "      <td>4001.0</td>\n",
       "      <td>4001.0</td>\n",
       "    </tr>\n",
       "    <tr>\n",
       "      <th>1123</th>\n",
       "      <td>Arabica</td>\n",
       "      <td>Other</td>\n",
       "      <td>Myanmar</td>\n",
       "      <td>ngu shwe li coffee estate</td>\n",
       "      <td>3845</td>\n",
       "      <td>3845.0</td>\n",
       "      <td>3845.0</td>\n",
       "      <td>3845.0</td>\n",
       "    </tr>\n",
       "    <tr>\n",
       "      <th>1038</th>\n",
       "      <td>Arabica</td>\n",
       "      <td>Catuai</td>\n",
       "      <td>Myanmar</td>\n",
       "      <td>NaN</td>\n",
       "      <td>3825</td>\n",
       "      <td>3825.0</td>\n",
       "      <td>3825.0</td>\n",
       "      <td>3825.0</td>\n",
       "    </tr>\n",
       "    <tr>\n",
       "      <th>1073</th>\n",
       "      <td>Arabica</td>\n",
       "      <td>Other</td>\n",
       "      <td>Myanmar</td>\n",
       "      <td>shwe yin mar coffee</td>\n",
       "      <td>3800</td>\n",
       "      <td>3800.0</td>\n",
       "      <td>3800.0</td>\n",
       "      <td>3800.0</td>\n",
       "    </tr>\n",
       "    <tr>\n",
       "      <th>1269</th>\n",
       "      <td>Arabica</td>\n",
       "      <td>Other</td>\n",
       "      <td>Indonesia</td>\n",
       "      <td>NaN</td>\n",
       "      <td>3500</td>\n",
       "      <td>3500.0</td>\n",
       "      <td>3500.0</td>\n",
       "      <td>3500.0</td>\n",
       "    </tr>\n",
       "    <tr>\n",
       "      <th>1001</th>\n",
       "      <td>Arabica</td>\n",
       "      <td>Bourbon</td>\n",
       "      <td>Guatemala</td>\n",
       "      <td>unex guatemala, s.a.</td>\n",
       "      <td>3280</td>\n",
       "      <td>3280.0</td>\n",
       "      <td>3280.0</td>\n",
       "      <td>3280.0</td>\n",
       "    </tr>\n",
       "    <tr>\n",
       "      <th>215</th>\n",
       "      <td>Arabica</td>\n",
       "      <td>Bourbon</td>\n",
       "      <td>Guatemala</td>\n",
       "      <td>unex guatemala, s.a.</td>\n",
       "      <td>3280</td>\n",
       "      <td>3280.0</td>\n",
       "      <td>3280.0</td>\n",
       "      <td>3280.0</td>\n",
       "    </tr>\n",
       "    <tr>\n",
       "      <th>837</th>\n",
       "      <td>Arabica</td>\n",
       "      <td>Bourbon</td>\n",
       "      <td>Guatemala</td>\n",
       "      <td>unex guatemala, s.a.</td>\n",
       "      <td>3280</td>\n",
       "      <td>3280.0</td>\n",
       "      <td>3280.0</td>\n",
       "      <td>3280.0</td>\n",
       "    </tr>\n",
       "    <tr>\n",
       "      <th>1312</th>\n",
       "      <td>Robusta</td>\n",
       "      <td>Other_2</td>\n",
       "      <td>India</td>\n",
       "      <td>kaapi royale</td>\n",
       "      <td>3170</td>\n",
       "      <td>3170.0</td>\n",
       "      <td>3170.0</td>\n",
       "      <td>3170.0</td>\n",
       "    </tr>\n",
       "    <tr>\n",
       "      <th>1318</th>\n",
       "      <td>Robusta</td>\n",
       "      <td>Other_2</td>\n",
       "      <td>India</td>\n",
       "      <td>kaapi royale</td>\n",
       "      <td>3140</td>\n",
       "      <td>3140.0</td>\n",
       "      <td>3140.0</td>\n",
       "      <td>3140.0</td>\n",
       "    </tr>\n",
       "  </tbody>\n",
       "</table>\n",
       "</div>"
      ],
      "text/plain": [
       "      Species        Variety Country_of_Origin  \\\n",
       "896   Arabica        Bourbon         Guatemala   \n",
       "1144  Arabica        Bourbon         Guatemala   \n",
       "1040  Arabica          Other         Nicaragua   \n",
       "543   Arabica  Moka Peaberry            Brazil   \n",
       "1098  Arabica         Catuai           Myanmar   \n",
       "840   Arabica         Catuai           Myanmar   \n",
       "1123  Arabica          Other           Myanmar   \n",
       "1038  Arabica         Catuai           Myanmar   \n",
       "1073  Arabica          Other           Myanmar   \n",
       "1269  Arabica          Other         Indonesia   \n",
       "1001  Arabica        Bourbon         Guatemala   \n",
       "215   Arabica        Bourbon         Guatemala   \n",
       "837   Arabica        Bourbon         Guatemala   \n",
       "1312  Robusta        Other_2             India   \n",
       "1318  Robusta        Other_2             India   \n",
       "\n",
       "                                        Company      Altitude  \\\n",
       "896                        unex guatemala, s.a.        190164   \n",
       "1144                       unex guatemala, s.a.       1901.64   \n",
       "1040  comercial internacional exportadora, s.a.  1100.00 mosl   \n",
       "543                                  expocaccer  11000 metros   \n",
       "1098                                        NaN          4287   \n",
       "840                                         NaN          4001   \n",
       "1123                  ngu shwe li coffee estate          3845   \n",
       "1038                                        NaN          3825   \n",
       "1073                        shwe yin mar coffee          3800   \n",
       "1269                                        NaN          3500   \n",
       "1001                       unex guatemala, s.a.          3280   \n",
       "215                        unex guatemala, s.a.          3280   \n",
       "837                        unex guatemala, s.a.          3280   \n",
       "1312                               kaapi royale          3170   \n",
       "1318                               kaapi royale          3140   \n",
       "\n",
       "      altitude_low_meters  altitude_high_meters  altitude_mean_meters  \n",
       "896              190164.0              190164.0              190164.0  \n",
       "1144             190164.0              190164.0              190164.0  \n",
       "1040             110000.0              110000.0              110000.0  \n",
       "543               11000.0               11000.0               11000.0  \n",
       "1098               4287.0                4287.0                4287.0  \n",
       "840                4001.0                4001.0                4001.0  \n",
       "1123               3845.0                3845.0                3845.0  \n",
       "1038               3825.0                3825.0                3825.0  \n",
       "1073               3800.0                3800.0                3800.0  \n",
       "1269               3500.0                3500.0                3500.0  \n",
       "1001               3280.0                3280.0                3280.0  \n",
       "215                3280.0                3280.0                3280.0  \n",
       "837                3280.0                3280.0                3280.0  \n",
       "1312               3170.0                3170.0                3170.0  \n",
       "1318               3140.0                3140.0                3140.0  "
      ]
     },
     "execution_count": 23,
     "metadata": {},
     "output_type": "execute_result"
    }
   ],
   "source": [
    "df_main[columnas_altitud].sort_values(by='altitude_low_meters',ascending=False).head(15)"
   ]
  },
  {
   "cell_type": "markdown",
   "metadata": {},
   "source": [
    "Modificando algunos Outliers en altitud baja, media, alta"
   ]
  },
  {
   "cell_type": "code",
   "execution_count": 24,
   "metadata": {},
   "outputs": [],
   "source": [
    "df_main.replace({'altitude_low_meters':  190164.0, \n",
    "                'altitude_high_meters':  190164.0, \n",
    "                'altitude_mean_meters':  190164.0}, 1901.64,inplace=True)\n",
    "\n",
    "df_main.replace({'altitude_low_meters':  110000.0, \n",
    "                'altitude_high_meters':  110000.0, \n",
    "                'altitude_mean_meters':  110000.0}, 1100.0,inplace=True)\n",
    "\n",
    "df_main.replace({'altitude_low_meters':  11000.0, \n",
    "                'altitude_high_meters':  11000.0, \n",
    "                'altitude_mean_meters':  11000.0}, 1100.0,inplace=True)"
   ]
  },
  {
   "cell_type": "code",
   "execution_count": 25,
   "metadata": {},
   "outputs": [
    {
     "data": {
      "text/plain": [
       "Species                 Arabica\n",
       "Variety                  Arusha\n",
       "Country_of_Origin        Brazil\n",
       "altitude_low_meters         1.0\n",
       "altitude_high_meters        1.0\n",
       "altitude_mean_meters        1.0\n",
       "dtype: object"
      ]
     },
     "execution_count": 25,
     "metadata": {},
     "output_type": "execute_result"
    }
   ],
   "source": [
    "df_main[columnas_altitud][df_main.Species=='Arabica'].min()"
   ]
  },
  {
   "cell_type": "code",
   "execution_count": 26,
   "metadata": {},
   "outputs": [
    {
     "data": {
      "text/plain": [
       "Species                        Arabica\n",
       "Variety                 Yellow Bourbon\n",
       "Country_of_Origin               Zambia\n",
       "altitude_low_meters             4287.0\n",
       "altitude_high_meters            5900.0\n",
       "altitude_mean_meters            4287.0\n",
       "dtype: object"
      ]
     },
     "execution_count": 26,
     "metadata": {},
     "output_type": "execute_result"
    }
   ],
   "source": [
    "df_main[columnas_altitud][df_main.Species=='Arabica'].max()"
   ]
  },
  {
   "cell_type": "markdown",
   "metadata": {},
   "source": [
    "Mediana de la Especie \"Arábica\", para reemplzarlo por los valores por debajo del mínimo"
   ]
  },
  {
   "cell_type": "code",
   "execution_count": 27,
   "metadata": {},
   "outputs": [
    {
     "data": {
      "text/plain": [
       "altitude_low_meters     1310.64\n",
       "altitude_high_meters    1350.00\n",
       "altitude_mean_meters    1310.64\n",
       "dtype: float64"
      ]
     },
     "execution_count": 27,
     "metadata": {},
     "output_type": "execute_result"
    }
   ],
   "source": [
    "mediana_robusta = df_main[columnas_altitud][df_main.Species=='Arabica'].median()\n",
    "mediana_robusta"
   ]
  },
  {
   "cell_type": "markdown",
   "metadata": {},
   "source": [
    "Mediana de la Especie \"Robusta\", para reemplzarlo por los valores por debajo del mínimo"
   ]
  },
  {
   "cell_type": "code",
   "execution_count": 28,
   "metadata": {},
   "outputs": [
    {
     "data": {
      "text/plain": [
       "altitude_low_meters     1095.0\n",
       "altitude_high_meters    1200.0\n",
       "altitude_mean_meters    1100.0\n",
       "dtype: float64"
      ]
     },
     "execution_count": 28,
     "metadata": {},
     "output_type": "execute_result"
    }
   ],
   "source": [
    "mediana_arabica = df_main[columnas_altitud][df_main.Species=='Robusta'].median()\n",
    "mediana_arabica"
   ]
  },
  {
   "cell_type": "markdown",
   "metadata": {},
   "source": [
    "Todos los valores nulos"
   ]
  },
  {
   "cell_type": "code",
   "execution_count": 29,
   "metadata": {},
   "outputs": [
    {
     "data": {
      "text/plain": [
       "Species                   0\n",
       "Variety                   0\n",
       "Country_of_Origin         0\n",
       "Company                 208\n",
       "Altitude                225\n",
       "altitude_low_meters     229\n",
       "altitude_high_meters    229\n",
       "altitude_mean_meters    229\n",
       "dtype: int64"
      ]
     },
     "execution_count": 29,
     "metadata": {},
     "output_type": "execute_result"
    }
   ],
   "source": [
    "df_main[columnas_altitud].isnull().sum()"
   ]
  },
  {
   "cell_type": "markdown",
   "metadata": {},
   "source": [
    "Reemplazar los valores nulos(missing) por 0.0"
   ]
  },
  {
   "cell_type": "code",
   "execution_count": 30,
   "metadata": {},
   "outputs": [],
   "source": [
    "df_main[['altitude_low_meters','altitude_high_meters','altitude_mean_meters']] = df_main[['altitude_low_meters','altitude_high_meters','altitude_mean_meters']].fillna(0.0)\n"
   ]
  },
  {
   "cell_type": "markdown",
   "metadata": {},
   "source": [
    "Mostramdo todos las altitudes menores a 200 de las tres columnas"
   ]
  },
  {
   "cell_type": "code",
   "execution_count": 31,
   "metadata": {},
   "outputs": [
    {
     "data": {
      "text/html": [
       "<div>\n",
       "<style scoped>\n",
       "    .dataframe tbody tr th:only-of-type {\n",
       "        vertical-align: middle;\n",
       "    }\n",
       "\n",
       "    .dataframe tbody tr th {\n",
       "        vertical-align: top;\n",
       "    }\n",
       "\n",
       "    .dataframe thead th {\n",
       "        text-align: right;\n",
       "    }\n",
       "</style>\n",
       "<table border=\"1\" class=\"dataframe\">\n",
       "  <thead>\n",
       "    <tr style=\"text-align: right;\">\n",
       "      <th></th>\n",
       "      <th>Species</th>\n",
       "      <th>Variety</th>\n",
       "      <th>Country_of_Origin</th>\n",
       "      <th>Company</th>\n",
       "      <th>Altitude</th>\n",
       "      <th>altitude_low_meters</th>\n",
       "      <th>altitude_high_meters</th>\n",
       "      <th>altitude_mean_meters</th>\n",
       "    </tr>\n",
       "  </thead>\n",
       "  <tbody>\n",
       "    <tr>\n",
       "      <th>5</th>\n",
       "      <td>Arabica</td>\n",
       "      <td>Other_2</td>\n",
       "      <td>Brazil</td>\n",
       "      <td>NaN</td>\n",
       "      <td>NaN</td>\n",
       "      <td>0.0</td>\n",
       "      <td>0.0</td>\n",
       "      <td>0.0</td>\n",
       "    </tr>\n",
       "    <tr>\n",
       "      <th>822</th>\n",
       "      <td>Arabica</td>\n",
       "      <td>Other_2</td>\n",
       "      <td>Nicaragua</td>\n",
       "      <td>volcafe specialty coffee</td>\n",
       "      <td>NaN</td>\n",
       "      <td>0.0</td>\n",
       "      <td>0.0</td>\n",
       "      <td>0.0</td>\n",
       "    </tr>\n",
       "    <tr>\n",
       "      <th>824</th>\n",
       "      <td>Arabica</td>\n",
       "      <td>Other_2</td>\n",
       "      <td>Honduras</td>\n",
       "      <td>thrive farmers</td>\n",
       "      <td>NaN</td>\n",
       "      <td>0.0</td>\n",
       "      <td>0.0</td>\n",
       "      <td>0.0</td>\n",
       "    </tr>\n",
       "    <tr>\n",
       "      <th>851</th>\n",
       "      <td>Arabica</td>\n",
       "      <td>Hawaiian Kona</td>\n",
       "      <td>United States (Hawaii)</td>\n",
       "      <td>kona pacific farmers cooperative</td>\n",
       "      <td>NaN</td>\n",
       "      <td>0.0</td>\n",
       "      <td>0.0</td>\n",
       "      <td>0.0</td>\n",
       "    </tr>\n",
       "    <tr>\n",
       "      <th>858</th>\n",
       "      <td>Arabica</td>\n",
       "      <td>Other_2</td>\n",
       "      <td>United States (Hawaii)</td>\n",
       "      <td>NaN</td>\n",
       "      <td>NaN</td>\n",
       "      <td>0.0</td>\n",
       "      <td>0.0</td>\n",
       "      <td>0.0</td>\n",
       "    </tr>\n",
       "    <tr>\n",
       "      <th>...</th>\n",
       "      <td>...</td>\n",
       "      <td>...</td>\n",
       "      <td>...</td>\n",
       "      <td>...</td>\n",
       "      <td>...</td>\n",
       "      <td>...</td>\n",
       "      <td>...</td>\n",
       "      <td>...</td>\n",
       "    </tr>\n",
       "    <tr>\n",
       "      <th>595</th>\n",
       "      <td>Arabica</td>\n",
       "      <td>Typica</td>\n",
       "      <td>Colombia</td>\n",
       "      <td>coffee export</td>\n",
       "      <td>1.65</td>\n",
       "      <td>165.0</td>\n",
       "      <td>165.0</td>\n",
       "      <td>165.0</td>\n",
       "    </tr>\n",
       "    <tr>\n",
       "      <th>442</th>\n",
       "      <td>Arabica</td>\n",
       "      <td>Bourbon</td>\n",
       "      <td>Tanzania, United Republic Of</td>\n",
       "      <td>volcafe/taylorwinch tanzania ltd</td>\n",
       "      <td>16.8</td>\n",
       "      <td>168.0</td>\n",
       "      <td>168.0</td>\n",
       "      <td>168.0</td>\n",
       "    </tr>\n",
       "    <tr>\n",
       "      <th>127</th>\n",
       "      <td>Arabica</td>\n",
       "      <td>Mundo Novo</td>\n",
       "      <td>Japan</td>\n",
       "      <td>matsuzawa coffee</td>\n",
       "      <td>170</td>\n",
       "      <td>170.0</td>\n",
       "      <td>170.0</td>\n",
       "      <td>170.0</td>\n",
       "    </tr>\n",
       "    <tr>\n",
       "      <th>435</th>\n",
       "      <td>Arabica</td>\n",
       "      <td>Caturra</td>\n",
       "      <td>Colombia</td>\n",
       "      <td>exportadora de cafe condor s.a</td>\n",
       "      <td>175</td>\n",
       "      <td>175.0</td>\n",
       "      <td>175.0</td>\n",
       "      <td>175.0</td>\n",
       "    </tr>\n",
       "    <tr>\n",
       "      <th>1052</th>\n",
       "      <td>Arabica</td>\n",
       "      <td>Caturra</td>\n",
       "      <td>Costa Rica</td>\n",
       "      <td>ceca,s.a.</td>\n",
       "      <td>1.85</td>\n",
       "      <td>185.0</td>\n",
       "      <td>185.0</td>\n",
       "      <td>185.0</td>\n",
       "    </tr>\n",
       "  </tbody>\n",
       "</table>\n",
       "<p>262 rows × 8 columns</p>\n",
       "</div>"
      ],
      "text/plain": [
       "      Species        Variety             Country_of_Origin  \\\n",
       "5     Arabica        Other_2                        Brazil   \n",
       "822   Arabica        Other_2                     Nicaragua   \n",
       "824   Arabica        Other_2                      Honduras   \n",
       "851   Arabica  Hawaiian Kona        United States (Hawaii)   \n",
       "858   Arabica        Other_2        United States (Hawaii)   \n",
       "...       ...            ...                           ...   \n",
       "595   Arabica         Typica                      Colombia   \n",
       "442   Arabica        Bourbon  Tanzania, United Republic Of   \n",
       "127   Arabica     Mundo Novo                         Japan   \n",
       "435   Arabica        Caturra                      Colombia   \n",
       "1052  Arabica        Caturra                    Costa Rica   \n",
       "\n",
       "                               Company Altitude  altitude_low_meters  \\\n",
       "5                                  NaN      NaN                  0.0   \n",
       "822           volcafe specialty coffee      NaN                  0.0   \n",
       "824                     thrive farmers      NaN                  0.0   \n",
       "851   kona pacific farmers cooperative      NaN                  0.0   \n",
       "858                                NaN      NaN                  0.0   \n",
       "...                                ...      ...                  ...   \n",
       "595                      coffee export     1.65                165.0   \n",
       "442   volcafe/taylorwinch tanzania ltd     16.8                168.0   \n",
       "127                   matsuzawa coffee      170                170.0   \n",
       "435     exportadora de cafe condor s.a      175                175.0   \n",
       "1052                         ceca,s.a.     1.85                185.0   \n",
       "\n",
       "      altitude_high_meters  altitude_mean_meters  \n",
       "5                      0.0                   0.0  \n",
       "822                    0.0                   0.0  \n",
       "824                    0.0                   0.0  \n",
       "851                    0.0                   0.0  \n",
       "858                    0.0                   0.0  \n",
       "...                    ...                   ...  \n",
       "595                  165.0                 165.0  \n",
       "442                  168.0                 168.0  \n",
       "127                  170.0                 170.0  \n",
       "435                  175.0                 175.0  \n",
       "1052                 185.0                 185.0  \n",
       "\n",
       "[262 rows x 8 columns]"
      ]
     },
     "execution_count": 31,
     "metadata": {},
     "output_type": "execute_result"
    }
   ],
   "source": [
    "df_main[columnas_altitud][(df_main.altitude_mean_meters < 200) | (df_main.altitude_high_meters < 200)].sort_values(by='altitude_low_meters',ascending=True)"
   ]
  },
  {
   "cell_type": "markdown",
   "metadata": {},
   "source": [
    "Los valores de las altitudes se muestran por debajo del valor mínimo, por lo tanto reeemplazaremos por la mediana"
   ]
  },
  {
   "cell_type": "code",
   "execution_count": 32,
   "metadata": {},
   "outputs": [
    {
     "name": "stderr",
     "output_type": "stream",
     "text": [
      "C:\\Users\\ele_9\\AppData\\Local\\Temp\\ipykernel_13936\\1299469916.py:1: SettingWithCopyWarning: \n",
      "A value is trying to be set on a copy of a slice from a DataFrame\n",
      "\n",
      "See the caveats in the documentation: https://pandas.pydata.org/pandas-docs/stable/user_guide/indexing.html#returning-a-view-versus-a-copy\n",
      "  df_main['altitude_low_meters'][(df_main.Species=='Arabica') & ((df_main.altitude_mean_meters < 200) | (df_main.altitude_high_meters < 200))] = mediana_arabica['altitude_low_meters']\n",
      "C:\\Users\\ele_9\\AppData\\Local\\Temp\\ipykernel_13936\\1299469916.py:2: SettingWithCopyWarning: \n",
      "A value is trying to be set on a copy of a slice from a DataFrame\n",
      "\n",
      "See the caveats in the documentation: https://pandas.pydata.org/pandas-docs/stable/user_guide/indexing.html#returning-a-view-versus-a-copy\n",
      "  df_main['altitude_high_meters'][(df_main.Species=='Arabica') & ((df_main.altitude_mean_meters < 200) | (df_main.altitude_high_meters < 200))] = mediana_arabica['altitude_high_meters']\n",
      "C:\\Users\\ele_9\\AppData\\Local\\Temp\\ipykernel_13936\\1299469916.py:3: SettingWithCopyWarning: \n",
      "A value is trying to be set on a copy of a slice from a DataFrame\n",
      "\n",
      "See the caveats in the documentation: https://pandas.pydata.org/pandas-docs/stable/user_guide/indexing.html#returning-a-view-versus-a-copy\n",
      "  df_main['altitude_mean_meters'][(df_main.Species=='Arabica') & ((df_main.altitude_mean_meters < 200) | (df_main.altitude_high_meters < 200))] = mediana_arabica['altitude_mean_meters']\n",
      "C:\\Users\\ele_9\\AppData\\Local\\Temp\\ipykernel_13936\\1299469916.py:5: SettingWithCopyWarning: \n",
      "A value is trying to be set on a copy of a slice from a DataFrame\n",
      "\n",
      "See the caveats in the documentation: https://pandas.pydata.org/pandas-docs/stable/user_guide/indexing.html#returning-a-view-versus-a-copy\n",
      "  df_main['altitude_low_meters'][(df_main.Species=='Robusta') & ((df_main.altitude_mean_meters < 200) | (df_main.altitude_high_meters < 200))] = mediana_robusta['altitude_low_meters']\n",
      "C:\\Users\\ele_9\\AppData\\Local\\Temp\\ipykernel_13936\\1299469916.py:6: SettingWithCopyWarning: \n",
      "A value is trying to be set on a copy of a slice from a DataFrame\n",
      "\n",
      "See the caveats in the documentation: https://pandas.pydata.org/pandas-docs/stable/user_guide/indexing.html#returning-a-view-versus-a-copy\n",
      "  df_main['altitude_high_meters'][(df_main.Species=='Robusta') & ((df_main.altitude_mean_meters < 200) | (df_main.altitude_high_meters < 200))] = mediana_robusta['altitude_high_meters']\n",
      "C:\\Users\\ele_9\\AppData\\Local\\Temp\\ipykernel_13936\\1299469916.py:7: SettingWithCopyWarning: \n",
      "A value is trying to be set on a copy of a slice from a DataFrame\n",
      "\n",
      "See the caveats in the documentation: https://pandas.pydata.org/pandas-docs/stable/user_guide/indexing.html#returning-a-view-versus-a-copy\n",
      "  df_main['altitude_mean_meters'][(df_main.Species=='Robusta') & ((df_main.altitude_mean_meters < 200) | (df_main.altitude_high_meters < 200))] = mediana_robusta['altitude_mean_meters']\n"
     ]
    }
   ],
   "source": [
    "df_main['altitude_low_meters'][(df_main.Species=='Arabica') & ((df_main.altitude_mean_meters < 200) | (df_main.altitude_high_meters < 200))] = mediana_arabica['altitude_low_meters']\n",
    "df_main['altitude_high_meters'][(df_main.Species=='Arabica') & ((df_main.altitude_mean_meters < 200) | (df_main.altitude_high_meters < 200))] = mediana_arabica['altitude_high_meters']\n",
    "df_main['altitude_mean_meters'][(df_main.Species=='Arabica') & ((df_main.altitude_mean_meters < 200) | (df_main.altitude_high_meters < 200))] = mediana_arabica['altitude_mean_meters']\n",
    "\n",
    "df_main['altitude_low_meters'][(df_main.Species=='Robusta') & ((df_main.altitude_mean_meters < 200) | (df_main.altitude_high_meters < 200))] = mediana_robusta['altitude_low_meters']\n",
    "df_main['altitude_high_meters'][(df_main.Species=='Robusta') & ((df_main.altitude_mean_meters < 200) | (df_main.altitude_high_meters < 200))] = mediana_robusta['altitude_high_meters']\n",
    "df_main['altitude_mean_meters'][(df_main.Species=='Robusta') & ((df_main.altitude_mean_meters < 200) | (df_main.altitude_high_meters < 200))] = mediana_robusta['altitude_mean_meters']"
   ]
  },
  {
   "cell_type": "markdown",
   "metadata": {},
   "source": [
    "Limpieza para la calidad del café"
   ]
  },
  {
   "cell_type": "code",
   "execution_count": 33,
   "metadata": {},
   "outputs": [
    {
     "data": {
      "text/html": [
       "<div>\n",
       "<style scoped>\n",
       "    .dataframe tbody tr th:only-of-type {\n",
       "        vertical-align: middle;\n",
       "    }\n",
       "\n",
       "    .dataframe tbody tr th {\n",
       "        vertical-align: top;\n",
       "    }\n",
       "\n",
       "    .dataframe thead th {\n",
       "        text-align: right;\n",
       "    }\n",
       "</style>\n",
       "<table border=\"1\" class=\"dataframe\">\n",
       "  <thead>\n",
       "    <tr style=\"text-align: right;\">\n",
       "      <th></th>\n",
       "      <th>1310</th>\n",
       "    </tr>\n",
       "  </thead>\n",
       "  <tbody>\n",
       "    <tr>\n",
       "      <th>Species</th>\n",
       "      <td>Arabica</td>\n",
       "    </tr>\n",
       "    <tr>\n",
       "      <th>Variety</th>\n",
       "      <td>Caturra</td>\n",
       "    </tr>\n",
       "    <tr>\n",
       "      <th>Country_of_Origin</th>\n",
       "      <td>Honduras</td>\n",
       "    </tr>\n",
       "    <tr>\n",
       "      <th>Mill</th>\n",
       "      <td>cigrah s.a de c.v.</td>\n",
       "    </tr>\n",
       "    <tr>\n",
       "      <th>ICO_number</th>\n",
       "      <td>13-111-053</td>\n",
       "    </tr>\n",
       "    <tr>\n",
       "      <th>Company</th>\n",
       "      <td>cigrah s.a de c.v</td>\n",
       "    </tr>\n",
       "    <tr>\n",
       "      <th>Region</th>\n",
       "      <td>comayagua</td>\n",
       "    </tr>\n",
       "    <tr>\n",
       "      <th>Producer</th>\n",
       "      <td>Reinerio Zepeda</td>\n",
       "    </tr>\n",
       "    <tr>\n",
       "      <th>Number_of_Bags</th>\n",
       "      <td>275</td>\n",
       "    </tr>\n",
       "    <tr>\n",
       "      <th>Bag_Weight</th>\n",
       "      <td>69 kg</td>\n",
       "    </tr>\n",
       "    <tr>\n",
       "      <th>Harvest_Year</th>\n",
       "      <td>2017</td>\n",
       "    </tr>\n",
       "    <tr>\n",
       "      <th>Grading_Date</th>\n",
       "      <td>April 28th, 2017</td>\n",
       "    </tr>\n",
       "    <tr>\n",
       "      <th>Owner_1</th>\n",
       "      <td>Bismarck Castro</td>\n",
       "    </tr>\n",
       "    <tr>\n",
       "      <th>Processing_Method</th>\n",
       "      <td>NaN</td>\n",
       "    </tr>\n",
       "    <tr>\n",
       "      <th>Aroma</th>\n",
       "      <td>0.0</td>\n",
       "    </tr>\n",
       "    <tr>\n",
       "      <th>Flavor</th>\n",
       "      <td>0.0</td>\n",
       "    </tr>\n",
       "    <tr>\n",
       "      <th>Aftertaste</th>\n",
       "      <td>0.0</td>\n",
       "    </tr>\n",
       "    <tr>\n",
       "      <th>Acidity</th>\n",
       "      <td>0.0</td>\n",
       "    </tr>\n",
       "    <tr>\n",
       "      <th>Body</th>\n",
       "      <td>0.0</td>\n",
       "    </tr>\n",
       "    <tr>\n",
       "      <th>Balance</th>\n",
       "      <td>0.0</td>\n",
       "    </tr>\n",
       "    <tr>\n",
       "      <th>Uniformity</th>\n",
       "      <td>0.0</td>\n",
       "    </tr>\n",
       "    <tr>\n",
       "      <th>Clean_Cup</th>\n",
       "      <td>0.0</td>\n",
       "    </tr>\n",
       "    <tr>\n",
       "      <th>Sweetness</th>\n",
       "      <td>0.0</td>\n",
       "    </tr>\n",
       "    <tr>\n",
       "      <th>Cupper_Points</th>\n",
       "      <td>0.0</td>\n",
       "    </tr>\n",
       "    <tr>\n",
       "      <th>Total_Cup_Points</th>\n",
       "      <td>0.0</td>\n",
       "    </tr>\n",
       "    <tr>\n",
       "      <th>Moisture</th>\n",
       "      <td>0.12</td>\n",
       "    </tr>\n",
       "    <tr>\n",
       "      <th>Quakers</th>\n",
       "      <td>0.0</td>\n",
       "    </tr>\n",
       "    <tr>\n",
       "      <th>Color</th>\n",
       "      <td>Green</td>\n",
       "    </tr>\n",
       "    <tr>\n",
       "      <th>Category_One_Defects</th>\n",
       "      <td>0</td>\n",
       "    </tr>\n",
       "    <tr>\n",
       "      <th>Category_Two_Defects</th>\n",
       "      <td>2</td>\n",
       "    </tr>\n",
       "    <tr>\n",
       "      <th>Expiration</th>\n",
       "      <td>April 28th, 2018</td>\n",
       "    </tr>\n",
       "    <tr>\n",
       "      <th>Certification_Body</th>\n",
       "      <td>Instituto Hondureño del Café</td>\n",
       "    </tr>\n",
       "    <tr>\n",
       "      <th>unit_of_measurement</th>\n",
       "      <td>m</td>\n",
       "    </tr>\n",
       "    <tr>\n",
       "      <th>altitude_low_meters</th>\n",
       "      <td>1400.0</td>\n",
       "    </tr>\n",
       "    <tr>\n",
       "      <th>altitude_high_meters</th>\n",
       "      <td>1400.0</td>\n",
       "    </tr>\n",
       "    <tr>\n",
       "      <th>altitude_mean_meters</th>\n",
       "      <td>1400.0</td>\n",
       "    </tr>\n",
       "    <tr>\n",
       "      <th>Altitude</th>\n",
       "      <td>1400</td>\n",
       "    </tr>\n",
       "  </tbody>\n",
       "</table>\n",
       "</div>"
      ],
      "text/plain": [
       "                                              1310\n",
       "Species                                    Arabica\n",
       "Variety                                    Caturra\n",
       "Country_of_Origin                         Honduras\n",
       "Mill                            cigrah s.a de c.v.\n",
       "ICO_number                              13-111-053\n",
       "Company                          cigrah s.a de c.v\n",
       "Region                                   comayagua\n",
       "Producer                           Reinerio Zepeda\n",
       "Number_of_Bags                                 275\n",
       "Bag_Weight                                   69 kg\n",
       "Harvest_Year                                  2017\n",
       "Grading_Date                      April 28th, 2017\n",
       "Owner_1                            Bismarck Castro\n",
       "Processing_Method                              NaN\n",
       "Aroma                                          0.0\n",
       "Flavor                                         0.0\n",
       "Aftertaste                                     0.0\n",
       "Acidity                                        0.0\n",
       "Body                                           0.0\n",
       "Balance                                        0.0\n",
       "Uniformity                                     0.0\n",
       "Clean_Cup                                      0.0\n",
       "Sweetness                                      0.0\n",
       "Cupper_Points                                  0.0\n",
       "Total_Cup_Points                               0.0\n",
       "Moisture                                      0.12\n",
       "Quakers                                        0.0\n",
       "Color                                        Green\n",
       "Category_One_Defects                             0\n",
       "Category_Two_Defects                             2\n",
       "Expiration                        April 28th, 2018\n",
       "Certification_Body    Instituto Hondureño del Café\n",
       "unit_of_measurement                              m\n",
       "altitude_low_meters                         1400.0\n",
       "altitude_high_meters                        1400.0\n",
       "altitude_mean_meters                        1400.0\n",
       "Altitude                                      1400"
      ]
     },
     "execution_count": 33,
     "metadata": {},
     "output_type": "execute_result"
    }
   ],
   "source": [
    "df_main[(df_main.Aroma < 2)|(df_main.Flavor < 2)|(df_main.Aftertaste < 2)].transpose()"
   ]
  },
  {
   "cell_type": "markdown",
   "metadata": {},
   "source": [
    "Se elimina la fila \"1310\" debido a que no contiene información de ningún dato que nos proporciona la calidad del café"
   ]
  },
  {
   "cell_type": "code",
   "execution_count": 34,
   "metadata": {},
   "outputs": [],
   "source": [
    "df_main = df_main.drop(index=1310)"
   ]
  },
  {
   "cell_type": "markdown",
   "metadata": {},
   "source": [
    "guardar los datos limpiados para usarlos en el reporte streamlit"
   ]
  },
  {
   "cell_type": "code",
   "execution_count": 35,
   "metadata": {},
   "outputs": [],
   "source": [
    "df_main_cleaning = df_main.to_csv('../data/df_main_cleaning.csv')"
   ]
  },
  {
   "cell_type": "markdown",
   "metadata": {},
   "source": [
    "### Respondiendo preguntas de Exploración"
   ]
  },
  {
   "cell_type": "markdown",
   "metadata": {},
   "source": [
    "#### Especies del Café"
   ]
  },
  {
   "cell_type": "markdown",
   "metadata": {},
   "source": [
    "##### 1. Cuales son las 8 Especies de Café que más se siembran el mundo(Nuestra data tiene de Especie Arábica y Robusta)?"
   ]
  },
  {
   "cell_type": "code",
   "execution_count": 36,
   "metadata": {},
   "outputs": [
    {
     "data": {
      "image/png": "[encoded data removed]",
      "text/plain": [
       "<Figure size 432x288 with 1 Axes>"
      ]
     },
     "metadata": {
      "needs_background": "light"
     },
     "output_type": "display_data"
    }
   ],
   "source": [
    "# Gráfico de las Especies\n",
    "plt.figure(figsize = (6,4))\n",
    "diagnostic_categorico_plot(df_main,'Species','especie')"
   ]
  },
  {
   "cell_type": "code",
   "execution_count": 37,
   "metadata": {},
   "outputs": [
    {
     "data": {
      "image/png": "[encoded data removed]",
      "text/plain": [
       "<Figure size 576x720 with 1 Axes>"
      ]
     },
     "metadata": {
      "needs_background": "light"
     },
     "output_type": "display_data"
    }
   ],
   "source": [
    "# Gráfico de las Variedades\n",
    "plt.figure(figsize = (8,10))\n",
    "diagnostic_categorico_plot(df_main,'Variety','Variedades')"
   ]
  },
  {
   "cell_type": "code",
   "execution_count": 38,
   "metadata": {},
   "outputs": [
    {
     "data": {
      "text/html": [
       "<div>\n",
       "<style scoped>\n",
       "    .dataframe tbody tr th:only-of-type {\n",
       "        vertical-align: middle;\n",
       "    }\n",
       "\n",
       "    .dataframe tbody tr th {\n",
       "        vertical-align: top;\n",
       "    }\n",
       "\n",
       "    .dataframe thead th {\n",
       "        text-align: right;\n",
       "    }\n",
       "</style>\n",
       "<table border=\"1\" class=\"dataframe\">\n",
       "  <thead>\n",
       "    <tr style=\"text-align: right;\">\n",
       "      <th></th>\n",
       "      <th>Variety</th>\n",
       "      <th>conteo</th>\n",
       "    </tr>\n",
       "  </thead>\n",
       "  <tbody>\n",
       "    <tr>\n",
       "      <th>5</th>\n",
       "      <td>Caturra</td>\n",
       "      <td>255</td>\n",
       "    </tr>\n",
       "    <tr>\n",
       "      <th>2</th>\n",
       "      <td>Bourbon</td>\n",
       "      <td>226</td>\n",
       "    </tr>\n",
       "    <tr>\n",
       "      <th>16</th>\n",
       "      <td>Other_2</td>\n",
       "      <td>225</td>\n",
       "    </tr>\n",
       "    <tr>\n",
       "      <th>28</th>\n",
       "      <td>Typica</td>\n",
       "      <td>211</td>\n",
       "    </tr>\n",
       "    <tr>\n",
       "      <th>15</th>\n",
       "      <td>Other</td>\n",
       "      <td>110</td>\n",
       "    </tr>\n",
       "    <tr>\n",
       "      <th>4</th>\n",
       "      <td>Catuai</td>\n",
       "      <td>74</td>\n",
       "    </tr>\n",
       "    <tr>\n",
       "      <th>9</th>\n",
       "      <td>Hawaiian Kona</td>\n",
       "      <td>44</td>\n",
       "    </tr>\n",
       "    <tr>\n",
       "      <th>29</th>\n",
       "      <td>Yellow Bourbon</td>\n",
       "      <td>35</td>\n",
       "    </tr>\n",
       "  </tbody>\n",
       "</table>\n",
       "</div>"
      ],
      "text/plain": [
       "           Variety  conteo\n",
       "5          Caturra     255\n",
       "2          Bourbon     226\n",
       "16         Other_2     225\n",
       "28          Typica     211\n",
       "15           Other     110\n",
       "4           Catuai      74\n",
       "9    Hawaiian Kona      44\n",
       "29  Yellow Bourbon      35"
      ]
     },
     "execution_count": 38,
     "metadata": {},
     "output_type": "execute_result"
    }
   ],
   "source": [
    "# Cuenta la cantidad de filas repetidas en la columna 'Variety'\n",
    "conteo_variedad_x_especie = (df_main[['Variety']] # Seleccion de columna y elimino NaNs\n",
    "                            .groupby(['Variety']).size() # Agrupo y cuento las obs. por intervalo de\n",
    "                            .reset_index() # Convierte a df \n",
    "                            .rename({0: 'conteo'}, axis=1) # Cambia el nombre de \"0\" a \"conteo\"\n",
    "                            .sort_values(by=['conteo'],ascending=False)) # Ordena los Datos de mayor a menor\n",
    "conteo_variedad_x_especie.head(8)"
   ]
  },
  {
   "cell_type": "code",
   "execution_count": 39,
   "metadata": {},
   "outputs": [
    {
     "data": {
      "text/html": [
       "<div>\n",
       "<style scoped>\n",
       "    .dataframe tbody tr th:only-of-type {\n",
       "        vertical-align: middle;\n",
       "    }\n",
       "\n",
       "    .dataframe tbody tr th {\n",
       "        vertical-align: top;\n",
       "    }\n",
       "\n",
       "    .dataframe thead th {\n",
       "        text-align: right;\n",
       "    }\n",
       "</style>\n",
       "<table border=\"1\" class=\"dataframe\">\n",
       "  <thead>\n",
       "    <tr style=\"text-align: right;\">\n",
       "      <th></th>\n",
       "      <th>Variety</th>\n",
       "      <th>conteo</th>\n",
       "    </tr>\n",
       "  </thead>\n",
       "  <tbody>\n",
       "    <tr>\n",
       "      <th>5</th>\n",
       "      <td>Caturra</td>\n",
       "      <td>255</td>\n",
       "    </tr>\n",
       "    <tr>\n",
       "      <th>2</th>\n",
       "      <td>Bourbon</td>\n",
       "      <td>226</td>\n",
       "    </tr>\n",
       "    <tr>\n",
       "      <th>28</th>\n",
       "      <td>Typica</td>\n",
       "      <td>211</td>\n",
       "    </tr>\n",
       "    <tr>\n",
       "      <th>4</th>\n",
       "      <td>Catuai</td>\n",
       "      <td>74</td>\n",
       "    </tr>\n",
       "    <tr>\n",
       "      <th>9</th>\n",
       "      <td>Hawaiian Kona</td>\n",
       "      <td>44</td>\n",
       "    </tr>\n",
       "    <tr>\n",
       "      <th>29</th>\n",
       "      <td>Yellow Bourbon</td>\n",
       "      <td>35</td>\n",
       "    </tr>\n",
       "    <tr>\n",
       "      <th>14</th>\n",
       "      <td>Mundo Novo</td>\n",
       "      <td>33</td>\n",
       "    </tr>\n",
       "    <tr>\n",
       "      <th>3</th>\n",
       "      <td>Catimor</td>\n",
       "      <td>20</td>\n",
       "    </tr>\n",
       "  </tbody>\n",
       "</table>\n",
       "</div>"
      ],
      "text/plain": [
       "           Variety  conteo\n",
       "5          Caturra     255\n",
       "2          Bourbon     226\n",
       "28          Typica     211\n",
       "4           Catuai      74\n",
       "9    Hawaiian Kona      44\n",
       "29  Yellow Bourbon      35\n",
       "14      Mundo Novo      33\n",
       "3          Catimor      20"
      ]
     },
     "execution_count": 39,
     "metadata": {},
     "output_type": "execute_result"
    }
   ],
   "source": [
    "# Eliminar las filas Other, Other_2 para quedarme con las variedades que si se encuentra específicado\n",
    "conteo_variedad_x_especie = conteo_variedad_x_especie[(conteo_variedad_x_especie['Variety']!='Other') & (conteo_variedad_x_especie['Variety']!='Other_2') ]\n",
    "conteo_variedad_x_especie = conteo_variedad_x_especie.head(8)\n",
    "conteo_variedad_x_especie"
   ]
  },
  {
   "cell_type": "code",
   "execution_count": 40,
   "metadata": {},
   "outputs": [
    {
     "data": {
      "text/plain": [
       "Text(0.5, 0.98, 'Las 8 Variedades más sembradas en el mundo')"
      ]
     },
     "execution_count": 40,
     "metadata": {},
     "output_type": "execute_result"
    },
    {
     "data": {
      "image/png": "[encoded data removed]",
      "text/plain": [
       "<Figure size 540x360 with 1 Axes>"
      ]
     },
     "metadata": {
      "needs_background": "light"
     },
     "output_type": "display_data"
    }
   ],
   "source": [
    "# Las 8 Variedades más sembradas en el mundo\n",
    "graf_variedad_especie = sns.catplot(\n",
    "    data=conteo_variedad_x_especie, kind=\"bar\",\n",
    "    x=\"conteo\", y=\"Variety\", aspect=1.5\n",
    ")\n",
    "\n",
    "graf_variedad_especie.fig.subplots_adjust(top=0.9)\n",
    "graf_variedad_especie.fig.suptitle('Las 8 Variedades más sembradas en el mundo')\n"
   ]
  },
  {
   "cell_type": "markdown",
   "metadata": {},
   "source": [
    "Podemos Observar que las variedades que más se siembran el mundo son \n",
    "1. Caturra\n",
    "2. Bourbon\n",
    "3. Typica\n",
    "4. Catuai\n",
    "5. Hawaiian Kona\n",
    "6. Yellow Bourbon\n",
    "7. Mundo Novo\n",
    "8. Catimor"
   ]
  },
  {
   "cell_type": "markdown",
   "metadata": {},
   "source": [
    "1.1 Cual es la distribución geográfica de las 8 variedades más sembradas?"
   ]
  },
  {
   "cell_type": "markdown",
   "metadata": {},
   "source": [
    "Realiza un filtro de las 8 variedades que se plantan en el mundo por cada país, de las encontradas anteriormente."
   ]
  },
  {
   "cell_type": "code",
   "execution_count": 41,
   "metadata": {},
   "outputs": [
    {
     "data": {
      "text/html": [
       "<div>\n",
       "<style scoped>\n",
       "    .dataframe tbody tr th:only-of-type {\n",
       "        vertical-align: middle;\n",
       "    }\n",
       "\n",
       "    .dataframe tbody tr th {\n",
       "        vertical-align: top;\n",
       "    }\n",
       "\n",
       "    .dataframe thead th {\n",
       "        text-align: right;\n",
       "    }\n",
       "</style>\n",
       "<table border=\"1\" class=\"dataframe\">\n",
       "  <thead>\n",
       "    <tr style=\"text-align: right;\">\n",
       "      <th></th>\n",
       "      <th>Species</th>\n",
       "      <th>Variety</th>\n",
       "      <th>Country_of_Origin</th>\n",
       "      <th>Mill</th>\n",
       "      <th>ICO_number</th>\n",
       "      <th>Company</th>\n",
       "      <th>Region</th>\n",
       "      <th>Producer</th>\n",
       "      <th>Number_of_Bags</th>\n",
       "      <th>Bag_Weight</th>\n",
       "      <th>...</th>\n",
       "      <th>Color</th>\n",
       "      <th>Category_One_Defects</th>\n",
       "      <th>Category_Two_Defects</th>\n",
       "      <th>Expiration</th>\n",
       "      <th>Certification_Body</th>\n",
       "      <th>unit_of_measurement</th>\n",
       "      <th>altitude_low_meters</th>\n",
       "      <th>altitude_high_meters</th>\n",
       "      <th>altitude_mean_meters</th>\n",
       "      <th>Altitude</th>\n",
       "    </tr>\n",
       "  </thead>\n",
       "  <tbody>\n",
       "    <tr>\n",
       "      <th>2</th>\n",
       "      <td>Arabica</td>\n",
       "      <td>Bourbon</td>\n",
       "      <td>Guatemala</td>\n",
       "      <td>NaN</td>\n",
       "      <td>NaN</td>\n",
       "      <td>NaN</td>\n",
       "      <td>NaN</td>\n",
       "      <td>NaN</td>\n",
       "      <td>5</td>\n",
       "      <td>1</td>\n",
       "      <td>...</td>\n",
       "      <td>NaN</td>\n",
       "      <td>0</td>\n",
       "      <td>0</td>\n",
       "      <td>May 31st, 2011</td>\n",
       "      <td>Specialty Coffee Association</td>\n",
       "      <td>m</td>\n",
       "      <td>1600.0</td>\n",
       "      <td>1800.0</td>\n",
       "      <td>1700.0</td>\n",
       "      <td>1600 - 1800 m</td>\n",
       "    </tr>\n",
       "    <tr>\n",
       "      <th>18</th>\n",
       "      <td>Arabica</td>\n",
       "      <td>Catimor</td>\n",
       "      <td>China</td>\n",
       "      <td>echo coffee mill</td>\n",
       "      <td>NaN</td>\n",
       "      <td>yunnan coffee exchange</td>\n",
       "      <td>yunnan</td>\n",
       "      <td>Echo Coffee</td>\n",
       "      <td>3</td>\n",
       "      <td>60 kg</td>\n",
       "      <td>...</td>\n",
       "      <td>Green</td>\n",
       "      <td>0</td>\n",
       "      <td>0</td>\n",
       "      <td>April 7th, 2017</td>\n",
       "      <td>Yunnan Coffee Exchange</td>\n",
       "      <td>m</td>\n",
       "      <td>1450.0</td>\n",
       "      <td>1450.0</td>\n",
       "      <td>1450.0</td>\n",
       "      <td>1450</td>\n",
       "    </tr>\n",
       "    <tr>\n",
       "      <th>21</th>\n",
       "      <td>Arabica</td>\n",
       "      <td>Caturra</td>\n",
       "      <td>Costa Rica</td>\n",
       "      <td>cafe altura de san ramon</td>\n",
       "      <td>5-562-0015</td>\n",
       "      <td>the coffee source inc.</td>\n",
       "      <td>san ramon</td>\n",
       "      <td>SEVERAL</td>\n",
       "      <td>250</td>\n",
       "      <td>3 lbs</td>\n",
       "      <td>...</td>\n",
       "      <td>Green</td>\n",
       "      <td>0</td>\n",
       "      <td>2</td>\n",
       "      <td>April 2nd, 2015</td>\n",
       "      <td>Specialty Coffee Association</td>\n",
       "      <td>m</td>\n",
       "      <td>1300.0</td>\n",
       "      <td>1300.0</td>\n",
       "      <td>1300.0</td>\n",
       "      <td>1300 msnm</td>\n",
       "    </tr>\n",
       "  </tbody>\n",
       "</table>\n",
       "<p>3 rows × 37 columns</p>\n",
       "</div>"
      ],
      "text/plain": [
       "    Species  Variety Country_of_Origin                      Mill  ICO_number  \\\n",
       "2   Arabica  Bourbon         Guatemala                       NaN         NaN   \n",
       "18  Arabica  Catimor             China          echo coffee mill         NaN   \n",
       "21  Arabica  Caturra        Costa Rica  cafe altura de san ramon  5-562-0015   \n",
       "\n",
       "                   Company     Region     Producer  Number_of_Bags Bag_Weight  \\\n",
       "2                      NaN        NaN          NaN               5          1   \n",
       "18  yunnan coffee exchange     yunnan  Echo Coffee               3      60 kg   \n",
       "21  the coffee source inc.  san ramon      SEVERAL             250      3 lbs   \n",
       "\n",
       "    ...  Color Category_One_Defects Category_Two_Defects       Expiration  \\\n",
       "2   ...    NaN                    0                    0   May 31st, 2011   \n",
       "18  ...  Green                    0                    0  April 7th, 2017   \n",
       "21  ...  Green                    0                    2  April 2nd, 2015   \n",
       "\n",
       "              Certification_Body  unit_of_measurement  altitude_low_meters  \\\n",
       "2   Specialty Coffee Association                    m               1600.0   \n",
       "18        Yunnan Coffee Exchange                    m               1450.0   \n",
       "21  Specialty Coffee Association                    m               1300.0   \n",
       "\n",
       "    altitude_high_meters  altitude_mean_meters       Altitude  \n",
       "2                 1800.0                1700.0  1600 - 1800 m  \n",
       "18                1450.0                1450.0           1450  \n",
       "21                1300.0                1300.0      1300 msnm  \n",
       "\n",
       "[3 rows x 37 columns]"
      ]
     },
     "execution_count": 41,
     "metadata": {},
     "output_type": "execute_result"
    }
   ],
   "source": [
    "# Pasar del DataFrame \"conteo_variedad_x_especie\" a lista\n",
    "filtro_variety_best = conteo_variedad_x_especie['Variety'].tolist()\n",
    "# Filtra los datos de las 8 mejores variedades\n",
    "filtro_variedad =  df_main[df_main.Variety.isin(filtro_variety_best)]\n",
    "filtro_variedad.head(3)"
   ]
  },
  {
   "cell_type": "markdown",
   "metadata": {},
   "source": [
    "Agrupar por País las 8 variedades más sembradas"
   ]
  },
  {
   "cell_type": "code",
   "execution_count": 42,
   "metadata": {},
   "outputs": [
    {
     "data": {
      "text/html": [
       "<div>\n",
       "<style scoped>\n",
       "    .dataframe tbody tr th:only-of-type {\n",
       "        vertical-align: middle;\n",
       "    }\n",
       "\n",
       "    .dataframe tbody tr th {\n",
       "        vertical-align: top;\n",
       "    }\n",
       "\n",
       "    .dataframe thead th {\n",
       "        text-align: right;\n",
       "    }\n",
       "</style>\n",
       "<table border=\"1\" class=\"dataframe\">\n",
       "  <thead>\n",
       "    <tr style=\"text-align: right;\">\n",
       "      <th></th>\n",
       "      <th>Country_of_Origin</th>\n",
       "      <th>conteo</th>\n",
       "    </tr>\n",
       "  </thead>\n",
       "  <tbody>\n",
       "    <tr>\n",
       "      <th>14</th>\n",
       "      <td>Mexico</td>\n",
       "      <td>207</td>\n",
       "    </tr>\n",
       "    <tr>\n",
       "      <th>7</th>\n",
       "      <td>Guatemala</td>\n",
       "      <td>157</td>\n",
       "    </tr>\n",
       "    <tr>\n",
       "      <th>3</th>\n",
       "      <td>Colombia</td>\n",
       "      <td>132</td>\n",
       "    </tr>\n",
       "    <tr>\n",
       "      <th>0</th>\n",
       "      <td>Brazil</td>\n",
       "      <td>112</td>\n",
       "    </tr>\n",
       "    <tr>\n",
       "      <th>21</th>\n",
       "      <td>Taiwan</td>\n",
       "      <td>66</td>\n",
       "    </tr>\n",
       "    <tr>\n",
       "      <th>4</th>\n",
       "      <td>Costa Rica</td>\n",
       "      <td>44</td>\n",
       "    </tr>\n",
       "    <tr>\n",
       "      <th>25</th>\n",
       "      <td>United States (Hawaii)</td>\n",
       "      <td>44</td>\n",
       "    </tr>\n",
       "    <tr>\n",
       "      <th>9</th>\n",
       "      <td>Honduras</td>\n",
       "      <td>44</td>\n",
       "    </tr>\n",
       "    <tr>\n",
       "      <th>2</th>\n",
       "      <td>China</td>\n",
       "      <td>14</td>\n",
       "    </tr>\n",
       "    <tr>\n",
       "      <th>5</th>\n",
       "      <td>El Salvador</td>\n",
       "      <td>13</td>\n",
       "    </tr>\n",
       "  </tbody>\n",
       "</table>\n",
       "</div>"
      ],
      "text/plain": [
       "         Country_of_Origin  conteo\n",
       "14                  Mexico     207\n",
       "7                Guatemala     157\n",
       "3                 Colombia     132\n",
       "0                   Brazil     112\n",
       "21                  Taiwan      66\n",
       "4               Costa Rica      44\n",
       "25  United States (Hawaii)      44\n",
       "9                 Honduras      44\n",
       "2                    China      14\n",
       "5              El Salvador      13"
      ]
     },
     "execution_count": 42,
     "metadata": {},
     "output_type": "execute_result"
    }
   ],
   "source": [
    "# Cuenta la cantidad de filas repetidas en la columna 'Variety'\n",
    "conteo_contry = (filtro_variedad[['Country_of_Origin']] # Seleccion de columna y elimino NaNs\n",
    "                                    .groupby(['Country_of_Origin']).size() # Agrupo y cuento las obs. por intervalo de\n",
    "                                    .reset_index() # Convierte a df \n",
    "                                    .rename({0: 'conteo'}, axis=1) # Cambia el nombre de \"0\" a \"conteo\"\n",
    "                                    .sort_values(by=['conteo'],ascending=False)) # Ordena de mayor a menor\n",
    "conteo_contry.head(10)"
   ]
  },
  {
   "cell_type": "markdown",
   "metadata": {},
   "source": [
    "Importando el dataset de ubicaciones del mundo"
   ]
  },
  {
   "cell_type": "code",
   "execution_count": 43,
   "metadata": {},
   "outputs": [
    {
     "data": {
      "text/html": [
       "<div>\n",
       "<style scoped>\n",
       "    .dataframe tbody tr th:only-of-type {\n",
       "        vertical-align: middle;\n",
       "    }\n",
       "\n",
       "    .dataframe tbody tr th {\n",
       "        vertical-align: top;\n",
       "    }\n",
       "\n",
       "    .dataframe thead th {\n",
       "        text-align: right;\n",
       "    }\n",
       "</style>\n",
       "<table border=\"1\" class=\"dataframe\">\n",
       "  <thead>\n",
       "    <tr style=\"text-align: right;\">\n",
       "      <th></th>\n",
       "      <th>pop_est</th>\n",
       "      <th>continent</th>\n",
       "      <th>name</th>\n",
       "      <th>iso_a3</th>\n",
       "      <th>gdp_md_est</th>\n",
       "      <th>geometry</th>\n",
       "    </tr>\n",
       "  </thead>\n",
       "  <tbody>\n",
       "    <tr>\n",
       "      <th>0</th>\n",
       "      <td>920938</td>\n",
       "      <td>Oceania</td>\n",
       "      <td>Fiji</td>\n",
       "      <td>FJI</td>\n",
       "      <td>8374.0</td>\n",
       "      <td>MULTIPOLYGON (((180.00000 -16.06713, 180.00000...</td>\n",
       "    </tr>\n",
       "    <tr>\n",
       "      <th>1</th>\n",
       "      <td>53950935</td>\n",
       "      <td>Africa</td>\n",
       "      <td>Tanzania</td>\n",
       "      <td>TZA</td>\n",
       "      <td>150600.0</td>\n",
       "      <td>POLYGON ((33.90371 -0.95000, 34.07262 -1.05982...</td>\n",
       "    </tr>\n",
       "    <tr>\n",
       "      <th>2</th>\n",
       "      <td>603253</td>\n",
       "      <td>Africa</td>\n",
       "      <td>W. Sahara</td>\n",
       "      <td>ESH</td>\n",
       "      <td>906.5</td>\n",
       "      <td>POLYGON ((-8.66559 27.65643, -8.66512 27.58948...</td>\n",
       "    </tr>\n",
       "  </tbody>\n",
       "</table>\n",
       "</div>"
      ],
      "text/plain": [
       "    pop_est continent       name iso_a3  gdp_md_est  \\\n",
       "0    920938   Oceania       Fiji    FJI      8374.0   \n",
       "1  53950935    Africa   Tanzania    TZA    150600.0   \n",
       "2    603253    Africa  W. Sahara    ESH       906.5   \n",
       "\n",
       "                                            geometry  \n",
       "0  MULTIPOLYGON (((180.00000 -16.06713, 180.00000...  \n",
       "1  POLYGON ((33.90371 -0.95000, 34.07262 -1.05982...  \n",
       "2  POLYGON ((-8.66559 27.65643, -8.66512 27.58948...  "
      ]
     },
     "execution_count": 43,
     "metadata": {},
     "output_type": "execute_result"
    }
   ],
   "source": [
    "# países del mundo\n",
    "world = gpd.read_file(gpd.datasets.get_path('naturalearth_lowres'))\n",
    "# ciudades\n",
    "# cities = gpd.read_file(gpd.datasets.get_path('naturalearth_cities'))\n",
    "world.head(3)"
   ]
  },
  {
   "cell_type": "markdown",
   "metadata": {},
   "source": [
    "Renombrar el nombre de la columna para más adelante poder usarla"
   ]
  },
  {
   "cell_type": "code",
   "execution_count": 44,
   "metadata": {},
   "outputs": [],
   "source": [
    "world.rename(columns={'name': 'Country_of_Origin'},inplace=True)"
   ]
  },
  {
   "cell_type": "markdown",
   "metadata": {},
   "source": [
    "Combinar geodataframe \"world\" con \"filtro_country\" para poder crear un gráfico completo de todos los paíces"
   ]
  },
  {
   "cell_type": "code",
   "execution_count": 45,
   "metadata": {},
   "outputs": [
    {
     "data": {
      "text/html": [
       "<div>\n",
       "<style scoped>\n",
       "    .dataframe tbody tr th:only-of-type {\n",
       "        vertical-align: middle;\n",
       "    }\n",
       "\n",
       "    .dataframe tbody tr th {\n",
       "        vertical-align: top;\n",
       "    }\n",
       "\n",
       "    .dataframe thead th {\n",
       "        text-align: right;\n",
       "    }\n",
       "</style>\n",
       "<table border=\"1\" class=\"dataframe\">\n",
       "  <thead>\n",
       "    <tr style=\"text-align: right;\">\n",
       "      <th></th>\n",
       "      <th>pop_est</th>\n",
       "      <th>continent</th>\n",
       "      <th>Country_of_Origin</th>\n",
       "      <th>iso_a3</th>\n",
       "      <th>gdp_md_est</th>\n",
       "      <th>geometry</th>\n",
       "      <th>conteo</th>\n",
       "    </tr>\n",
       "  </thead>\n",
       "  <tbody>\n",
       "    <tr>\n",
       "      <th>27</th>\n",
       "      <td>124574795</td>\n",
       "      <td>North America</td>\n",
       "      <td>Mexico</td>\n",
       "      <td>MEX</td>\n",
       "      <td>2307000.0</td>\n",
       "      <td>POLYGON ((-117.12776 32.53534, -115.99135 32.6...</td>\n",
       "      <td>207.0</td>\n",
       "    </tr>\n",
       "    <tr>\n",
       "      <th>38</th>\n",
       "      <td>15460732</td>\n",
       "      <td>North America</td>\n",
       "      <td>Guatemala</td>\n",
       "      <td>GTM</td>\n",
       "      <td>131800.0</td>\n",
       "      <td>POLYGON ((-92.22775 14.53883, -92.20323 14.830...</td>\n",
       "      <td>157.0</td>\n",
       "    </tr>\n",
       "    <tr>\n",
       "      <th>32</th>\n",
       "      <td>47698524</td>\n",
       "      <td>South America</td>\n",
       "      <td>Colombia</td>\n",
       "      <td>COL</td>\n",
       "      <td>688000.0</td>\n",
       "      <td>POLYGON ((-66.87633 1.25336, -67.06505 1.13011...</td>\n",
       "      <td>132.0</td>\n",
       "    </tr>\n",
       "    <tr>\n",
       "      <th>29</th>\n",
       "      <td>207353391</td>\n",
       "      <td>South America</td>\n",
       "      <td>Brazil</td>\n",
       "      <td>BRA</td>\n",
       "      <td>3081000.0</td>\n",
       "      <td>POLYGON ((-53.37366 -33.76838, -53.65054 -33.2...</td>\n",
       "      <td>112.0</td>\n",
       "    </tr>\n",
       "    <tr>\n",
       "      <th>140</th>\n",
       "      <td>23508428</td>\n",
       "      <td>Asia</td>\n",
       "      <td>Taiwan</td>\n",
       "      <td>TWN</td>\n",
       "      <td>1127000.0</td>\n",
       "      <td>POLYGON ((121.77782 24.39427, 121.17563 22.790...</td>\n",
       "      <td>66.0</td>\n",
       "    </tr>\n",
       "  </tbody>\n",
       "</table>\n",
       "</div>"
      ],
      "text/plain": [
       "       pop_est      continent Country_of_Origin iso_a3  gdp_md_est  \\\n",
       "27   124574795  North America            Mexico    MEX   2307000.0   \n",
       "38    15460732  North America         Guatemala    GTM    131800.0   \n",
       "32    47698524  South America          Colombia    COL    688000.0   \n",
       "29   207353391  South America            Brazil    BRA   3081000.0   \n",
       "140   23508428           Asia            Taiwan    TWN   1127000.0   \n",
       "\n",
       "                                              geometry  conteo  \n",
       "27   POLYGON ((-117.12776 32.53534, -115.99135 32.6...   207.0  \n",
       "38   POLYGON ((-92.22775 14.53883, -92.20323 14.830...   157.0  \n",
       "32   POLYGON ((-66.87633 1.25336, -67.06505 1.13011...   132.0  \n",
       "29   POLYGON ((-53.37366 -33.76838, -53.65054 -33.2...   112.0  \n",
       "140  POLYGON ((121.77782 24.39427, 121.17563 22.790...    66.0  "
      ]
     },
     "execution_count": 45,
     "metadata": {},
     "output_type": "execute_result"
    }
   ],
   "source": [
    "filtro_country_3 = pd.merge(world, conteo_contry,on= 'Country_of_Origin',how='left')\n",
    "filtro_country_3.sort_values(by='conteo', ascending=False).head()"
   ]
  },
  {
   "cell_type": "code",
   "execution_count": 46,
   "metadata": {},
   "outputs": [
    {
     "data": {
      "text/plain": [
       "<AxesSubplot:>"
      ]
     },
     "execution_count": 46,
     "metadata": {},
     "output_type": "execute_result"
    },
    {
     "data": {
      "image/png": "[encoded data removed]",
      "text/plain": [
       "<Figure size 1440x720 with 2 Axes>"
      ]
     },
     "metadata": {
      "needs_background": "light"
     },
     "output_type": "display_data"
    }
   ],
   "source": [
    "# Mapa de calor de las 8 variedades más sembradas x país\n",
    "filtro_country_3.plot(\"conteo\", cmap='viridis', figsize=(20, 10),\n",
    "                       legend=True,\n",
    "                       missing_kwds={\n",
    "                        \"color\": \"lightgrey\",\n",
    "                        \"label\": \"Missing values\",\n",
    "                        },)"
   ]
  },
  {
   "cell_type": "markdown",
   "metadata": {},
   "source": [
    "##### 2. Cuanto es la humedad promedio por Variedad?"
   ]
  },
  {
   "cell_type": "code",
   "execution_count": 47,
   "metadata": {},
   "outputs": [
    {
     "data": {
      "text/html": [
       "<div>\n",
       "<style scoped>\n",
       "    .dataframe tbody tr th:only-of-type {\n",
       "        vertical-align: middle;\n",
       "    }\n",
       "\n",
       "    .dataframe tbody tr th {\n",
       "        vertical-align: top;\n",
       "    }\n",
       "\n",
       "    .dataframe thead th {\n",
       "        text-align: right;\n",
       "    }\n",
       "</style>\n",
       "<table border=\"1\" class=\"dataframe\">\n",
       "  <thead>\n",
       "    <tr style=\"text-align: right;\">\n",
       "      <th></th>\n",
       "      <th>Variety</th>\n",
       "      <th>altitude_mean_meters</th>\n",
       "    </tr>\n",
       "  </thead>\n",
       "  <tbody>\n",
       "    <tr>\n",
       "      <th>0</th>\n",
       "      <td>Ethiopian Heirlooms</td>\n",
       "      <td>2000.000000</td>\n",
       "    </tr>\n",
       "    <tr>\n",
       "      <th>1</th>\n",
       "      <td>Ethiopian Yirgacheffe</td>\n",
       "      <td>1875.000000</td>\n",
       "    </tr>\n",
       "    <tr>\n",
       "      <th>2</th>\n",
       "      <td>Ruiru 11</td>\n",
       "      <td>1842.500000</td>\n",
       "    </tr>\n",
       "    <tr>\n",
       "      <th>3</th>\n",
       "      <td>Pache Comun</td>\n",
       "      <td>1706.880000</td>\n",
       "    </tr>\n",
       "    <tr>\n",
       "      <th>4</th>\n",
       "      <td>SL14</td>\n",
       "      <td>1688.235294</td>\n",
       "    </tr>\n",
       "  </tbody>\n",
       "</table>\n",
       "</div>"
      ],
      "text/plain": [
       "                 Variety  altitude_mean_meters\n",
       "0    Ethiopian Heirlooms           2000.000000\n",
       "1  Ethiopian Yirgacheffe           1875.000000\n",
       "2               Ruiru 11           1842.500000\n",
       "3            Pache Comun           1706.880000\n",
       "4                   SL14           1688.235294"
      ]
     },
     "execution_count": 47,
     "metadata": {},
     "output_type": "execute_result"
    }
   ],
   "source": [
    "altitud_promedio_variedad = (df_main.groupby('Variety')['altitude_mean_meters'].mean()\n",
    "                            .sort_values(ascending=False)\n",
    "                            .reset_index() # Convierte a df \n",
    "                            .rename({0: 'conteo'}, axis=1)) # Cambia el nombre de \"0\" a \"conteo\")\n",
    "altitud_promedio_variedad.head()"
   ]
  },
  {
   "cell_type": "code",
   "execution_count": 48,
   "metadata": {},
   "outputs": [
    {
     "data": {
      "text/html": [
       "<div>\n",
       "<style scoped>\n",
       "    .dataframe tbody tr th:only-of-type {\n",
       "        vertical-align: middle;\n",
       "    }\n",
       "\n",
       "    .dataframe tbody tr th {\n",
       "        vertical-align: top;\n",
       "    }\n",
       "\n",
       "    .dataframe thead th {\n",
       "        text-align: right;\n",
       "    }\n",
       "</style>\n",
       "<table border=\"1\" class=\"dataframe\">\n",
       "  <thead>\n",
       "    <tr style=\"text-align: right;\">\n",
       "      <th></th>\n",
       "      <th>Variety</th>\n",
       "      <th>altitude_mean_meters</th>\n",
       "    </tr>\n",
       "  </thead>\n",
       "  <tbody>\n",
       "    <tr>\n",
       "      <th>13</th>\n",
       "      <td>Caturra</td>\n",
       "      <td>1439.693453</td>\n",
       "    </tr>\n",
       "    <tr>\n",
       "      <th>14</th>\n",
       "      <td>Catuai</td>\n",
       "      <td>1411.392432</td>\n",
       "    </tr>\n",
       "    <tr>\n",
       "      <th>15</th>\n",
       "      <td>Catimor</td>\n",
       "      <td>1410.500000</td>\n",
       "    </tr>\n",
       "    <tr>\n",
       "      <th>18</th>\n",
       "      <td>Bourbon</td>\n",
       "      <td>1324.730280</td>\n",
       "    </tr>\n",
       "    <tr>\n",
       "      <th>24</th>\n",
       "      <td>Typica</td>\n",
       "      <td>1136.905972</td>\n",
       "    </tr>\n",
       "    <tr>\n",
       "      <th>26</th>\n",
       "      <td>Hawaiian Kona</td>\n",
       "      <td>1100.000000</td>\n",
       "    </tr>\n",
       "    <tr>\n",
       "      <th>28</th>\n",
       "      <td>Yellow Bourbon</td>\n",
       "      <td>1099.714286</td>\n",
       "    </tr>\n",
       "    <tr>\n",
       "      <th>29</th>\n",
       "      <td>Mundo Novo</td>\n",
       "      <td>1060.212121</td>\n",
       "    </tr>\n",
       "  </tbody>\n",
       "</table>\n",
       "</div>"
      ],
      "text/plain": [
       "           Variety  altitude_mean_meters\n",
       "13         Caturra           1439.693453\n",
       "14          Catuai           1411.392432\n",
       "15         Catimor           1410.500000\n",
       "18         Bourbon           1324.730280\n",
       "24          Typica           1136.905972\n",
       "26   Hawaiian Kona           1100.000000\n",
       "28  Yellow Bourbon           1099.714286\n",
       "29      Mundo Novo           1060.212121"
      ]
     },
     "execution_count": 48,
     "metadata": {},
     "output_type": "execute_result"
    }
   ],
   "source": [
    "altitud_promedio_variedad_8_mas = altitud_promedio_variedad[altitud_promedio_variedad.Variety.isin(conteo_variedad_x_especie['Variety'].tolist())]\n",
    "altitud_promedio_variedad_8_mas"
   ]
  },
  {
   "cell_type": "code",
   "execution_count": 49,
   "metadata": {},
   "outputs": [
    {
     "data": {
      "text/plain": [
       "Text(0.5, 0.98, 'Altitud promedio de las 8 Variedades más sembradas en el mundo')"
      ]
     },
     "execution_count": 49,
     "metadata": {},
     "output_type": "execute_result"
    },
    {
     "data": {
      "image/png": "[encoded data removed]",
      "text/plain": [
       "<Figure size 540x360 with 1 Axes>"
      ]
     },
     "metadata": {
      "needs_background": "light"
     },
     "output_type": "display_data"
    }
   ],
   "source": [
    "# Altitud promedio de las 8 Variedades más sembradas en el mundo\n",
    "graf_altitud_promedio_variedad_8_mas = sns.catplot(\n",
    "    data=altitud_promedio_variedad_8_mas, kind=\"bar\",\n",
    "    x=\"altitude_mean_meters\", y=\"Variety\", aspect=1.5,\n",
    ")\n",
    "\n",
    "graf_altitud_promedio_variedad_8_mas.fig.subplots_adjust(top=0.9)\n",
    "graf_altitud_promedio_variedad_8_mas.fig.suptitle('Altitud promedio de las 8 Variedades más sembradas en el mundo')"
   ]
  },
  {
   "cell_type": "markdown",
   "metadata": {},
   "source": [
    "#### Calidad del Café"
   ]
  },
  {
   "cell_type": "markdown",
   "metadata": {},
   "source": [
    "##### 1. La altitud del café impacta con el sabor?"
   ]
  },
  {
   "cell_type": "code",
   "execution_count": 50,
   "metadata": {},
   "outputs": [
    {
     "data": {
      "text/html": [
       "<div>\n",
       "<style scoped>\n",
       "    .dataframe tbody tr th:only-of-type {\n",
       "        vertical-align: middle;\n",
       "    }\n",
       "\n",
       "    .dataframe tbody tr th {\n",
       "        vertical-align: top;\n",
       "    }\n",
       "\n",
       "    .dataframe thead th {\n",
       "        text-align: right;\n",
       "    }\n",
       "</style>\n",
       "<table border=\"1\" class=\"dataframe\">\n",
       "  <thead>\n",
       "    <tr style=\"text-align: right;\">\n",
       "      <th></th>\n",
       "      <th>Variety</th>\n",
       "      <th>altitude_mean_meters</th>\n",
       "      <th>Flavor</th>\n",
       "    </tr>\n",
       "  </thead>\n",
       "  <tbody>\n",
       "    <tr>\n",
       "      <th>0</th>\n",
       "      <td>Ethiopian Heirlooms</td>\n",
       "      <td>2000.000000</td>\n",
       "      <td>7.580000</td>\n",
       "    </tr>\n",
       "    <tr>\n",
       "      <th>1</th>\n",
       "      <td>Ethiopian Yirgacheffe</td>\n",
       "      <td>1875.000000</td>\n",
       "      <td>8.000000</td>\n",
       "    </tr>\n",
       "    <tr>\n",
       "      <th>2</th>\n",
       "      <td>Ruiru 11</td>\n",
       "      <td>1842.500000</td>\n",
       "      <td>7.460000</td>\n",
       "    </tr>\n",
       "    <tr>\n",
       "      <th>3</th>\n",
       "      <td>Pache Comun</td>\n",
       "      <td>1706.880000</td>\n",
       "      <td>7.170000</td>\n",
       "    </tr>\n",
       "    <tr>\n",
       "      <th>4</th>\n",
       "      <td>SL14</td>\n",
       "      <td>1688.235294</td>\n",
       "      <td>7.717059</td>\n",
       "    </tr>\n",
       "    <tr>\n",
       "      <th>5</th>\n",
       "      <td>Marigojipe</td>\n",
       "      <td>1600.000000</td>\n",
       "      <td>7.500000</td>\n",
       "    </tr>\n",
       "    <tr>\n",
       "      <th>6</th>\n",
       "      <td>SL34</td>\n",
       "      <td>1554.250000</td>\n",
       "      <td>7.790000</td>\n",
       "    </tr>\n",
       "    <tr>\n",
       "      <th>7</th>\n",
       "      <td>Gesha</td>\n",
       "      <td>1537.958333</td>\n",
       "      <td>7.535833</td>\n",
       "    </tr>\n",
       "    <tr>\n",
       "      <th>8</th>\n",
       "      <td>SL28</td>\n",
       "      <td>1511.266667</td>\n",
       "      <td>7.732667</td>\n",
       "    </tr>\n",
       "    <tr>\n",
       "      <th>9</th>\n",
       "      <td>Sulawesi</td>\n",
       "      <td>1500.000000</td>\n",
       "      <td>7.580000</td>\n",
       "    </tr>\n",
       "    <tr>\n",
       "      <th>10</th>\n",
       "      <td>Other</td>\n",
       "      <td>1472.236909</td>\n",
       "      <td>7.573455</td>\n",
       "    </tr>\n",
       "    <tr>\n",
       "      <th>11</th>\n",
       "      <td>Arusha</td>\n",
       "      <td>1466.666667</td>\n",
       "      <td>7.498333</td>\n",
       "    </tr>\n",
       "    <tr>\n",
       "      <th>12</th>\n",
       "      <td>Pacas</td>\n",
       "      <td>1445.846154</td>\n",
       "      <td>7.410769</td>\n",
       "    </tr>\n",
       "    <tr>\n",
       "      <th>13</th>\n",
       "      <td>Caturra</td>\n",
       "      <td>1439.693453</td>\n",
       "      <td>7.559882</td>\n",
       "    </tr>\n",
       "    <tr>\n",
       "      <th>14</th>\n",
       "      <td>Catuai</td>\n",
       "      <td>1411.392432</td>\n",
       "      <td>7.425405</td>\n",
       "    </tr>\n",
       "  </tbody>\n",
       "</table>\n",
       "</div>"
      ],
      "text/plain": [
       "                  Variety  altitude_mean_meters    Flavor\n",
       "0     Ethiopian Heirlooms           2000.000000  7.580000\n",
       "1   Ethiopian Yirgacheffe           1875.000000  8.000000\n",
       "2                Ruiru 11           1842.500000  7.460000\n",
       "3             Pache Comun           1706.880000  7.170000\n",
       "4                    SL14           1688.235294  7.717059\n",
       "5              Marigojipe           1600.000000  7.500000\n",
       "6                    SL34           1554.250000  7.790000\n",
       "7                   Gesha           1537.958333  7.535833\n",
       "8                    SL28           1511.266667  7.732667\n",
       "9                Sulawesi           1500.000000  7.580000\n",
       "10                  Other           1472.236909  7.573455\n",
       "11                 Arusha           1466.666667  7.498333\n",
       "12                  Pacas           1445.846154  7.410769\n",
       "13                Caturra           1439.693453  7.559882\n",
       "14                 Catuai           1411.392432  7.425405"
      ]
     },
     "execution_count": 50,
     "metadata": {},
     "output_type": "execute_result"
    }
   ],
   "source": [
    "altitud_x_sabor = (df_main.groupby('Variety')[['altitude_mean_meters','Flavor']].mean()\n",
    "                    .sort_values(by='altitude_mean_meters',ascending=False)\n",
    "                    .reset_index() # Convierte a df \n",
    "                    .rename({0: 'conteo'}, axis=1)) # Cambia el nombre de \"0\" a \"conteo\")\n",
    "altitud_x_sabor.head(15)"
   ]
  },
  {
   "cell_type": "code",
   "execution_count": 51,
   "metadata": {},
   "outputs": [
    {
     "data": {
      "text/plain": [
       "Text(0.5, 0.98, 'Altitud promedio de las 8 Variedades más sembradas en el mundo')"
      ]
     },
     "execution_count": 51,
     "metadata": {},
     "output_type": "execute_result"
    },
    {
     "data": {
      "image/png": "[encoded data removed]",
      "text/plain": [
       "<Figure size 540x360 with 1 Axes>"
      ]
     },
     "metadata": {
      "needs_background": "light"
     },
     "output_type": "display_data"
    }
   ],
   "source": [
    "# Las 8 Variedades más sembradas en el mundo\n",
    "graf_altitud_promedio_variedad_8_mas = sns.catplot(\n",
    "    data=altitud_x_sabor.head(8), kind=\"bar\",\n",
    "    x=\"altitude_mean_meters\", y=\"Variety\", aspect=1.5,\n",
    ")\n",
    "\n",
    "graf_altitud_promedio_variedad_8_mas.fig.subplots_adjust(top=0.9)\n",
    "graf_altitud_promedio_variedad_8_mas.fig.suptitle('Altitud promedio de las 8 Variedades más sembradas en el mundo')"
   ]
  },
  {
   "cell_type": "markdown",
   "metadata": {},
   "source": [
    "Gráfico de Dispersión entre las variables Sabor y Altitud"
   ]
  },
  {
   "cell_type": "code",
   "execution_count": 52,
   "metadata": {},
   "outputs": [
    {
     "data": {
      "text/plain": [
       "<AxesSubplot:xlabel='Flavor', ylabel='altitude_mean_meters'>"
      ]
     },
     "execution_count": 52,
     "metadata": {},
     "output_type": "execute_result"
    },
    {
     "data": {
      "image/png": "[encoded data removed]",
      "text/plain": [
       "<Figure size 432x288 with 1 Axes>"
      ]
     },
     "metadata": {
      "needs_background": "light"
     },
     "output_type": "display_data"
    }
   ],
   "source": [
    "sns.scatterplot(data=altitud_x_sabor,x='Flavor',y='altitude_mean_meters')"
   ]
  },
  {
   "cell_type": "markdown",
   "metadata": {},
   "source": [
    "Código estadístico de correlación de pearson."
   ]
  },
  {
   "cell_type": "code",
   "execution_count": 53,
   "metadata": {},
   "outputs": [
    {
     "data": {
      "text/plain": [
       "(0.23118482119463768, 0.2190037971633194)"
      ]
     },
     "execution_count": 53,
     "metadata": {},
     "output_type": "execute_result"
    }
   ],
   "source": [
    "stats.pearsonr(altitud_x_sabor['Flavor'], altitud_x_sabor['altitude_mean_meters'])"
   ]
  },
  {
   "cell_type": "markdown",
   "metadata": {},
   "source": [
    "Del gráfico anterior podemos decir que el \"sabor\" con la \"altitud\" no están tan altamente correlacionadas ya que su correlación es 0.23. Por lo tanto al cambiar la altitud no afectará tanto al sabor."
   ]
  },
  {
   "cell_type": "markdown",
   "metadata": {},
   "source": [
    "##### 2. La altitud impacta con la calidad del café?"
   ]
  },
  {
   "cell_type": "code",
   "execution_count": 54,
   "metadata": {},
   "outputs": [],
   "source": [
    "Variables_Calidad_Cafe = ['Aroma','Flavor', 'Aftertaste', 'Acidity', 'Body', 'Balance', 'Uniformity',\n",
    "                          'Clean_Cup', 'Sweetness','Cupper_Points']"
   ]
  },
  {
   "cell_type": "code",
   "execution_count": 55,
   "metadata": {},
   "outputs": [
    {
     "data": {
      "text/html": [
       "<div>\n",
       "<style scoped>\n",
       "    .dataframe tbody tr th:only-of-type {\n",
       "        vertical-align: middle;\n",
       "    }\n",
       "\n",
       "    .dataframe tbody tr th {\n",
       "        vertical-align: top;\n",
       "    }\n",
       "\n",
       "    .dataframe thead th {\n",
       "        text-align: right;\n",
       "    }\n",
       "</style>\n",
       "<table border=\"1\" class=\"dataframe\">\n",
       "  <thead>\n",
       "    <tr style=\"text-align: right;\">\n",
       "      <th></th>\n",
       "      <th>Aroma</th>\n",
       "      <th>Flavor</th>\n",
       "      <th>Aftertaste</th>\n",
       "      <th>Acidity</th>\n",
       "      <th>Body</th>\n",
       "      <th>Balance</th>\n",
       "      <th>Uniformity</th>\n",
       "      <th>Clean_Cup</th>\n",
       "      <th>Sweetness</th>\n",
       "      <th>Cupper_Points</th>\n",
       "    </tr>\n",
       "  </thead>\n",
       "  <tbody>\n",
       "    <tr>\n",
       "      <th>0</th>\n",
       "      <td>8.67</td>\n",
       "      <td>8.83</td>\n",
       "      <td>8.67</td>\n",
       "      <td>8.75</td>\n",
       "      <td>8.50</td>\n",
       "      <td>8.42</td>\n",
       "      <td>10.00</td>\n",
       "      <td>10.00</td>\n",
       "      <td>10.00</td>\n",
       "      <td>8.75</td>\n",
       "    </tr>\n",
       "    <tr>\n",
       "      <th>1</th>\n",
       "      <td>8.75</td>\n",
       "      <td>8.67</td>\n",
       "      <td>8.50</td>\n",
       "      <td>8.58</td>\n",
       "      <td>8.42</td>\n",
       "      <td>8.42</td>\n",
       "      <td>10.00</td>\n",
       "      <td>10.00</td>\n",
       "      <td>10.00</td>\n",
       "      <td>8.58</td>\n",
       "    </tr>\n",
       "    <tr>\n",
       "      <th>2</th>\n",
       "      <td>8.42</td>\n",
       "      <td>8.50</td>\n",
       "      <td>8.42</td>\n",
       "      <td>8.42</td>\n",
       "      <td>8.33</td>\n",
       "      <td>8.42</td>\n",
       "      <td>10.00</td>\n",
       "      <td>10.00</td>\n",
       "      <td>10.00</td>\n",
       "      <td>9.25</td>\n",
       "    </tr>\n",
       "    <tr>\n",
       "      <th>3</th>\n",
       "      <td>8.17</td>\n",
       "      <td>8.58</td>\n",
       "      <td>8.42</td>\n",
       "      <td>8.42</td>\n",
       "      <td>8.50</td>\n",
       "      <td>8.25</td>\n",
       "      <td>10.00</td>\n",
       "      <td>10.00</td>\n",
       "      <td>10.00</td>\n",
       "      <td>8.67</td>\n",
       "    </tr>\n",
       "    <tr>\n",
       "      <th>4</th>\n",
       "      <td>8.25</td>\n",
       "      <td>8.50</td>\n",
       "      <td>8.25</td>\n",
       "      <td>8.50</td>\n",
       "      <td>8.42</td>\n",
       "      <td>8.33</td>\n",
       "      <td>10.00</td>\n",
       "      <td>10.00</td>\n",
       "      <td>10.00</td>\n",
       "      <td>8.58</td>\n",
       "    </tr>\n",
       "    <tr>\n",
       "      <th>...</th>\n",
       "      <td>...</td>\n",
       "      <td>...</td>\n",
       "      <td>...</td>\n",
       "      <td>...</td>\n",
       "      <td>...</td>\n",
       "      <td>...</td>\n",
       "      <td>...</td>\n",
       "      <td>...</td>\n",
       "      <td>...</td>\n",
       "      <td>...</td>\n",
       "    </tr>\n",
       "    <tr>\n",
       "      <th>1334</th>\n",
       "      <td>7.75</td>\n",
       "      <td>7.58</td>\n",
       "      <td>7.33</td>\n",
       "      <td>7.58</td>\n",
       "      <td>5.08</td>\n",
       "      <td>7.83</td>\n",
       "      <td>10.00</td>\n",
       "      <td>10.00</td>\n",
       "      <td>7.75</td>\n",
       "      <td>7.83</td>\n",
       "    </tr>\n",
       "    <tr>\n",
       "      <th>1335</th>\n",
       "      <td>7.50</td>\n",
       "      <td>7.67</td>\n",
       "      <td>7.75</td>\n",
       "      <td>7.75</td>\n",
       "      <td>5.17</td>\n",
       "      <td>5.25</td>\n",
       "      <td>10.00</td>\n",
       "      <td>10.00</td>\n",
       "      <td>8.42</td>\n",
       "      <td>8.58</td>\n",
       "    </tr>\n",
       "    <tr>\n",
       "      <th>1336</th>\n",
       "      <td>7.33</td>\n",
       "      <td>7.33</td>\n",
       "      <td>7.17</td>\n",
       "      <td>7.42</td>\n",
       "      <td>7.50</td>\n",
       "      <td>7.17</td>\n",
       "      <td>9.33</td>\n",
       "      <td>9.33</td>\n",
       "      <td>7.42</td>\n",
       "      <td>7.17</td>\n",
       "    </tr>\n",
       "    <tr>\n",
       "      <th>1337</th>\n",
       "      <td>7.42</td>\n",
       "      <td>6.83</td>\n",
       "      <td>6.75</td>\n",
       "      <td>7.17</td>\n",
       "      <td>7.25</td>\n",
       "      <td>7.00</td>\n",
       "      <td>9.33</td>\n",
       "      <td>9.33</td>\n",
       "      <td>7.08</td>\n",
       "      <td>6.92</td>\n",
       "    </tr>\n",
       "    <tr>\n",
       "      <th>1338</th>\n",
       "      <td>6.75</td>\n",
       "      <td>6.67</td>\n",
       "      <td>6.50</td>\n",
       "      <td>6.83</td>\n",
       "      <td>6.92</td>\n",
       "      <td>6.83</td>\n",
       "      <td>9.33</td>\n",
       "      <td>9.33</td>\n",
       "      <td>6.67</td>\n",
       "      <td>7.92</td>\n",
       "    </tr>\n",
       "  </tbody>\n",
       "</table>\n",
       "<p>1337 rows × 10 columns</p>\n",
       "</div>"
      ],
      "text/plain": [
       "      Aroma  Flavor  Aftertaste  Acidity  Body  Balance  Uniformity  \\\n",
       "0      8.67    8.83        8.67     8.75  8.50     8.42       10.00   \n",
       "1      8.75    8.67        8.50     8.58  8.42     8.42       10.00   \n",
       "2      8.42    8.50        8.42     8.42  8.33     8.42       10.00   \n",
       "3      8.17    8.58        8.42     8.42  8.50     8.25       10.00   \n",
       "4      8.25    8.50        8.25     8.50  8.42     8.33       10.00   \n",
       "...     ...     ...         ...      ...   ...      ...         ...   \n",
       "1334   7.75    7.58        7.33     7.58  5.08     7.83       10.00   \n",
       "1335   7.50    7.67        7.75     7.75  5.17     5.25       10.00   \n",
       "1336   7.33    7.33        7.17     7.42  7.50     7.17        9.33   \n",
       "1337   7.42    6.83        6.75     7.17  7.25     7.00        9.33   \n",
       "1338   6.75    6.67        6.50     6.83  6.92     6.83        9.33   \n",
       "\n",
       "      Clean_Cup  Sweetness  Cupper_Points  \n",
       "0         10.00      10.00           8.75  \n",
       "1         10.00      10.00           8.58  \n",
       "2         10.00      10.00           9.25  \n",
       "3         10.00      10.00           8.67  \n",
       "4         10.00      10.00           8.58  \n",
       "...         ...        ...            ...  \n",
       "1334      10.00       7.75           7.83  \n",
       "1335      10.00       8.42           8.58  \n",
       "1336       9.33       7.42           7.17  \n",
       "1337       9.33       7.08           6.92  \n",
       "1338       9.33       6.67           7.92  \n",
       "\n",
       "[1337 rows x 10 columns]"
      ]
     },
     "execution_count": 55,
     "metadata": {},
     "output_type": "execute_result"
    }
   ],
   "source": [
    "df_main[Variables_Calidad_Cafe]"
   ]
  },
  {
   "cell_type": "code",
   "execution_count": 56,
   "metadata": {},
   "outputs": [
    {
     "data": {
      "image/png": "[encoded data removed]",
      "text/plain": [
       "<Figure size 1008x504 with 10 Axes>"
      ]
     },
     "metadata": {
      "needs_background": "light"
     },
     "output_type": "display_data"
    }
   ],
   "source": [
    "fig, axs = plt.subplots(2,5,figsize=(14,7))\n",
    "plt.suptitle('Gráfico de dispersión de las variables que afectan la calidad del café', fontsize=14)\n",
    "var=df_main[Variables_Calidad_Cafe].columns.to_list() \n",
    "axs = axs.ravel()\n",
    "\n",
    "for k,i in zip(var,range(0,len(var))):\n",
    "    axs[i].scatter(df_main[k],df_main['Total_Cup_Points'],color='blue')\n",
    "    axs[i].set_title(k,fontsize=10)\n",
    "    \n",
    "plt.subplots_adjust(left=0.125,\n",
    "                    bottom=0.1, \n",
    "                    right=0.9, \n",
    "                    top=0.9, \n",
    "                    wspace=0.5, \n",
    "                    hspace=0.5)    "
   ]
  },
  {
   "cell_type": "markdown",
   "metadata": {},
   "source": [
    "Gráfico de Correlación de Variables"
   ]
  },
  {
   "cell_type": "code",
   "execution_count": 57,
   "metadata": {},
   "outputs": [
    {
     "data": {
      "image/png": "[encoded data removed]",
      "text/plain": [
       "<Figure size 1008x432 with 2 Axes>"
      ]
     },
     "metadata": {
      "needs_background": "light"
     },
     "output_type": "display_data"
    }
   ],
   "source": [
    "plt.rcParams['figure.figsize']=14,6\n",
    "plt.rcParams['font.size'] = 12\n",
    "\n",
    "with sns.axes_style(\"white\"):\n",
    "    temp=df_main[['Aroma','Flavor', 'Aftertaste', 'Acidity', 'Body', 'Balance','Cupper_Points']].corr()\n",
    "    \n",
    "    mask = np.zeros_like(temp)\n",
    "    mask[np.triu_indices_from(mask)] = True\n",
    "    \n",
    "sns.heatmap(temp,mask=mask,annot=True,fmt='.3g', linewidths=.4)\n",
    "plt.title(\"Correlación de las variables\")\n",
    "plt.show()"
   ]
  },
  {
   "cell_type": "markdown",
   "metadata": {},
   "source": [
    "El Flavor, Aftertaste, acidity, body, Balance, Cupper_Points, afectan positivamente a la calidad del café. "
   ]
  },
  {
   "cell_type": "markdown",
   "metadata": {},
   "source": [
    "##### 3. Cuales son las 5 mejores variedades de café encontradas dentro de la información, de acuerdo a la puntuación del catador?"
   ]
  },
  {
   "cell_type": "markdown",
   "metadata": {},
   "source": [
    "1. MENOS DE 80 \"COMERCIAL\"\n",
    "2. 80-84 \"ESPECIALIDAD\"\n",
    "3. 84-89 \" EJEPLAR REGIONAL PLUS+\"\n",
    "4. 90-95 \" CAFÉ EJEMPLAR\"\n",
    "5. MAYOR A 95 \"CAFÉ ÚNICO\""
   ]
  },
  {
   "cell_type": "code",
   "execution_count": 58,
   "metadata": {},
   "outputs": [
    {
     "data": {
      "text/plain": [
       "90.58"
      ]
     },
     "execution_count": 58,
     "metadata": {},
     "output_type": "execute_result"
    }
   ],
   "source": [
    "df_main[\"Total_Cup_Points\"].max()"
   ]
  },
  {
   "cell_type": "markdown",
   "metadata": {},
   "source": [
    "La puntuación máxima según nuestros datos es de 90.58"
   ]
  },
  {
   "cell_type": "code",
   "execution_count": 59,
   "metadata": {},
   "outputs": [
    {
     "data": {
      "text/plain": [
       "(80, 84]    904\n",
       "(84, 90]    239\n",
       "(0, 80]     193\n",
       "(90, 91]      1\n",
       "Name: Total_Cup_Points, dtype: int64"
      ]
     },
     "execution_count": 59,
     "metadata": {},
     "output_type": "execute_result"
    }
   ],
   "source": [
    "rangos_calidad = [0,80,84,90,91]\n",
    "calidad_bins = pd.cut(df_main['Total_Cup_Points'],bins=rangos_calidad)\n",
    "calidad_bins_count = calidad_bins.value_counts()\n",
    "calidad_bins_count"
   ]
  },
  {
   "cell_type": "code",
   "execution_count": 60,
   "metadata": {},
   "outputs": [
    {
     "data": {
      "text/plain": [
       "<AxesSubplot:>"
      ]
     },
     "execution_count": 60,
     "metadata": {},
     "output_type": "execute_result"
    },
    {
     "data": {
      "image/png": "[encoded data removed]",
      "text/plain": [
       "<Figure size 576x720 with 1 Axes>"
      ]
     },
     "metadata": {
      "needs_background": "light"
     },
     "output_type": "display_data"
    }
   ],
   "source": [
    "plt.figure(figsize = (8,10))\n",
    "calidad_bins_count.sort_index().plot(kind='bar')"
   ]
  },
  {
   "cell_type": "code",
   "execution_count": 61,
   "metadata": {},
   "outputs": [
    {
     "data": {
      "text/html": [
       "<div>\n",
       "<style scoped>\n",
       "    .dataframe tbody tr th:only-of-type {\n",
       "        vertical-align: middle;\n",
       "    }\n",
       "\n",
       "    .dataframe tbody tr th {\n",
       "        vertical-align: top;\n",
       "    }\n",
       "\n",
       "    .dataframe thead th {\n",
       "        text-align: right;\n",
       "    }\n",
       "</style>\n",
       "<table border=\"1\" class=\"dataframe\">\n",
       "  <thead>\n",
       "    <tr style=\"text-align: right;\">\n",
       "      <th></th>\n",
       "      <th>Variety</th>\n",
       "      <th>Total_Cup_Points</th>\n",
       "    </tr>\n",
       "  </thead>\n",
       "  <tbody>\n",
       "    <tr>\n",
       "      <th>0</th>\n",
       "      <td>Other_2</td>\n",
       "      <td>90.58</td>\n",
       "    </tr>\n",
       "    <tr>\n",
       "      <th>1</th>\n",
       "      <td>Other</td>\n",
       "      <td>89.92</td>\n",
       "    </tr>\n",
       "    <tr>\n",
       "      <th>2</th>\n",
       "      <td>Bourbon</td>\n",
       "      <td>89.75</td>\n",
       "    </tr>\n",
       "    <tr>\n",
       "      <th>3</th>\n",
       "      <td>Other_2</td>\n",
       "      <td>89.00</td>\n",
       "    </tr>\n",
       "    <tr>\n",
       "      <th>4</th>\n",
       "      <td>Other</td>\n",
       "      <td>88.83</td>\n",
       "    </tr>\n",
       "    <tr>\n",
       "      <th>5</th>\n",
       "      <td>Other_2</td>\n",
       "      <td>88.83</td>\n",
       "    </tr>\n",
       "    <tr>\n",
       "      <th>6</th>\n",
       "      <td>Other</td>\n",
       "      <td>88.75</td>\n",
       "    </tr>\n",
       "    <tr>\n",
       "      <th>7</th>\n",
       "      <td>Other_2</td>\n",
       "      <td>88.67</td>\n",
       "    </tr>\n",
       "    <tr>\n",
       "      <th>8</th>\n",
       "      <td>Other_2</td>\n",
       "      <td>88.42</td>\n",
       "    </tr>\n",
       "    <tr>\n",
       "      <th>9</th>\n",
       "      <td>Other</td>\n",
       "      <td>88.25</td>\n",
       "    </tr>\n",
       "    <tr>\n",
       "      <th>10</th>\n",
       "      <td>Other_2</td>\n",
       "      <td>88.08</td>\n",
       "    </tr>\n",
       "    <tr>\n",
       "      <th>11</th>\n",
       "      <td>Other</td>\n",
       "      <td>87.92</td>\n",
       "    </tr>\n",
       "    <tr>\n",
       "      <th>12</th>\n",
       "      <td>Other</td>\n",
       "      <td>87.92</td>\n",
       "    </tr>\n",
       "    <tr>\n",
       "      <th>13</th>\n",
       "      <td>Other_2</td>\n",
       "      <td>87.92</td>\n",
       "    </tr>\n",
       "    <tr>\n",
       "      <th>14</th>\n",
       "      <td>Other_2</td>\n",
       "      <td>87.83</td>\n",
       "    </tr>\n",
       "  </tbody>\n",
       "</table>\n",
       "</div>"
      ],
      "text/plain": [
       "    Variety  Total_Cup_Points\n",
       "0   Other_2             90.58\n",
       "1     Other             89.92\n",
       "2   Bourbon             89.75\n",
       "3   Other_2             89.00\n",
       "4     Other             88.83\n",
       "5   Other_2             88.83\n",
       "6     Other             88.75\n",
       "7   Other_2             88.67\n",
       "8   Other_2             88.42\n",
       "9     Other             88.25\n",
       "10  Other_2             88.08\n",
       "11    Other             87.92\n",
       "12    Other             87.92\n",
       "13  Other_2             87.92\n",
       "14  Other_2             87.83"
      ]
     },
     "execution_count": 61,
     "metadata": {},
     "output_type": "execute_result"
    }
   ],
   "source": [
    "df_main[['Variety','Total_Cup_Points']][df_main.Total_Cup_Points > 84].sort_values(by='Total_Cup_Points',ascending=False).head(15)"
   ]
  },
  {
   "cell_type": "code",
   "execution_count": 62,
   "metadata": {},
   "outputs": [
    {
     "data": {
      "text/plain": [
       "['Aroma',\n",
       " 'Flavor',\n",
       " 'Aftertaste',\n",
       " 'Acidity',\n",
       " 'Body',\n",
       " 'Balance',\n",
       " 'Uniformity',\n",
       " 'Clean_Cup',\n",
       " 'Sweetness',\n",
       " 'Cupper_Points']"
      ]
     },
     "execution_count": 62,
     "metadata": {},
     "output_type": "execute_result"
    }
   ],
   "source": [
    "Variables_Calidad_Cafe"
   ]
  },
  {
   "cell_type": "code",
   "execution_count": 63,
   "metadata": {},
   "outputs": [
    {
     "data": {
      "text/plain": [
       "['Aroma',\n",
       " 'Flavor',\n",
       " 'Aftertaste',\n",
       " 'Acidity',\n",
       " 'Body',\n",
       " 'Balance',\n",
       " 'Uniformity',\n",
       " 'Clean_Cup',\n",
       " 'Sweetness',\n",
       " 'Cupper_Points',\n",
       " 'Variety',\n",
       " 'Total_Cup_Points']"
      ]
     },
     "execution_count": 63,
     "metadata": {},
     "output_type": "execute_result"
    }
   ],
   "source": [
    "var_calidad = ['Variety','Total_Cup_Points']\n",
    "Variables_Calidad_Cafe.extend(var_calidad)\n",
    "Variables_Calidad_Cafe"
   ]
  },
  {
   "cell_type": "code",
   "execution_count": 64,
   "metadata": {},
   "outputs": [],
   "source": [
    "alta_calidad = df_main[Variables_Calidad_Cafe][(df_main.Total_Cup_Points >84) &\n",
    "                                        (df_main.Variety != 'Other') & \n",
    "                                        (df_main.Variety != 'Other_2')].sort_values(by='Total_Cup_Points',ascending=False).head(5)"
   ]
  },
  {
   "cell_type": "code",
   "execution_count": 65,
   "metadata": {},
   "outputs": [
    {
     "data": {
      "text/html": [
       "<div>\n",
       "<style scoped>\n",
       "    .dataframe tbody tr th:only-of-type {\n",
       "        vertical-align: middle;\n",
       "    }\n",
       "\n",
       "    .dataframe tbody tr th {\n",
       "        vertical-align: top;\n",
       "    }\n",
       "\n",
       "    .dataframe thead th {\n",
       "        text-align: right;\n",
       "    }\n",
       "</style>\n",
       "<table border=\"1\" class=\"dataframe\">\n",
       "  <thead>\n",
       "    <tr style=\"text-align: right;\">\n",
       "      <th></th>\n",
       "      <th>Aroma</th>\n",
       "      <th>Flavor</th>\n",
       "      <th>Aftertaste</th>\n",
       "      <th>Acidity</th>\n",
       "      <th>Body</th>\n",
       "      <th>Balance</th>\n",
       "      <th>Uniformity</th>\n",
       "      <th>Clean_Cup</th>\n",
       "      <th>Sweetness</th>\n",
       "      <th>Cupper_Points</th>\n",
       "      <th>Variety</th>\n",
       "      <th>Total_Cup_Points</th>\n",
       "    </tr>\n",
       "  </thead>\n",
       "  <tbody>\n",
       "    <tr>\n",
       "      <th>2</th>\n",
       "      <td>8.42</td>\n",
       "      <td>8.50</td>\n",
       "      <td>8.42</td>\n",
       "      <td>8.42</td>\n",
       "      <td>8.33</td>\n",
       "      <td>8.42</td>\n",
       "      <td>10.0</td>\n",
       "      <td>10.0</td>\n",
       "      <td>10.0</td>\n",
       "      <td>9.25</td>\n",
       "      <td>Bourbon</td>\n",
       "      <td>89.75</td>\n",
       "    </tr>\n",
       "    <tr>\n",
       "      <th>19</th>\n",
       "      <td>8.17</td>\n",
       "      <td>8.17</td>\n",
       "      <td>8.00</td>\n",
       "      <td>8.17</td>\n",
       "      <td>8.08</td>\n",
       "      <td>8.33</td>\n",
       "      <td>10.0</td>\n",
       "      <td>10.0</td>\n",
       "      <td>10.0</td>\n",
       "      <td>8.33</td>\n",
       "      <td>Ethiopian Yirgacheffe</td>\n",
       "      <td>87.25</td>\n",
       "    </tr>\n",
       "    <tr>\n",
       "      <th>18</th>\n",
       "      <td>8.42</td>\n",
       "      <td>8.25</td>\n",
       "      <td>8.08</td>\n",
       "      <td>8.17</td>\n",
       "      <td>7.92</td>\n",
       "      <td>8.00</td>\n",
       "      <td>10.0</td>\n",
       "      <td>10.0</td>\n",
       "      <td>10.0</td>\n",
       "      <td>8.42</td>\n",
       "      <td>Catimor</td>\n",
       "      <td>87.25</td>\n",
       "    </tr>\n",
       "    <tr>\n",
       "      <th>21</th>\n",
       "      <td>8.08</td>\n",
       "      <td>8.25</td>\n",
       "      <td>8.00</td>\n",
       "      <td>8.17</td>\n",
       "      <td>8.00</td>\n",
       "      <td>8.33</td>\n",
       "      <td>10.0</td>\n",
       "      <td>10.0</td>\n",
       "      <td>10.0</td>\n",
       "      <td>8.33</td>\n",
       "      <td>Caturra</td>\n",
       "      <td>87.17</td>\n",
       "    </tr>\n",
       "    <tr>\n",
       "      <th>25</th>\n",
       "      <td>8.50</td>\n",
       "      <td>8.50</td>\n",
       "      <td>8.00</td>\n",
       "      <td>8.00</td>\n",
       "      <td>8.00</td>\n",
       "      <td>8.00</td>\n",
       "      <td>10.0</td>\n",
       "      <td>10.0</td>\n",
       "      <td>10.0</td>\n",
       "      <td>7.92</td>\n",
       "      <td>Bourbon</td>\n",
       "      <td>86.92</td>\n",
       "    </tr>\n",
       "  </tbody>\n",
       "</table>\n",
       "</div>"
      ],
      "text/plain": [
       "    Aroma  Flavor  Aftertaste  Acidity  Body  Balance  Uniformity  Clean_Cup  \\\n",
       "2    8.42    8.50        8.42     8.42  8.33     8.42        10.0       10.0   \n",
       "19   8.17    8.17        8.00     8.17  8.08     8.33        10.0       10.0   \n",
       "18   8.42    8.25        8.08     8.17  7.92     8.00        10.0       10.0   \n",
       "21   8.08    8.25        8.00     8.17  8.00     8.33        10.0       10.0   \n",
       "25   8.50    8.50        8.00     8.00  8.00     8.00        10.0       10.0   \n",
       "\n",
       "    Sweetness  Cupper_Points                Variety  Total_Cup_Points  \n",
       "2        10.0           9.25                Bourbon             89.75  \n",
       "19       10.0           8.33  Ethiopian Yirgacheffe             87.25  \n",
       "18       10.0           8.42                Catimor             87.25  \n",
       "21       10.0           8.33                Caturra             87.17  \n",
       "25       10.0           7.92                Bourbon             86.92  "
      ]
     },
     "execution_count": 65,
     "metadata": {},
     "output_type": "execute_result"
    }
   ],
   "source": [
    "alta_calidad"
   ]
  },
  {
   "cell_type": "code",
   "execution_count": 66,
   "metadata": {},
   "outputs": [],
   "source": [
    "categories = ['Aroma', 'Flavor', 'Aftertaste', 'Acidity', 'Body', 'Balance',\n",
    "              'Uniformity', 'Clean_Cup', 'Sweetness', 'Cupper_Points']"
   ]
  },
  {
   "cell_type": "code",
   "execution_count": 67,
   "metadata": {},
   "outputs": [
    {
     "data": {
      "application/vnd.plotly.v1+json": {
       "config": {
        "plotlyServerURL": "https://plot.ly"
       },
       "data": [
        {
         "name": "Bourbon",
         "r": [
          8.42,
          8.5,
          8.42,
          8.42,
          8.33,
          8.42,
          10,
          10,
          10,
          9.25
         ],
         "theta": [
          "Aroma",
          "Flavor",
          "Aftertaste",
          "Acidity",
          "Body",
          "Balance",
          "Uniformity",
          "Clean_Cup",
          "Sweetness",
          "Cupper_Points"
         ],
         "type": "scatterpolar"
        },
        {
         "name": "Catimor",
         "r": [
          8.42,
          8.25,
          8.08,
          8.17,
          7.92,
          8,
          10,
          10,
          10,
          8.42
         ],
         "theta": [
          "Aroma",
          "Flavor",
          "Aftertaste",
          "Acidity",
          "Body",
          "Balance",
          "Uniformity",
          "Clean_Cup",
          "Sweetness",
          "Cupper_Points"
         ],
         "type": "scatterpolar"
        },
        {
         "name": "Caturra",
         "r": [
          8.08,
          8.25,
          8,
          8.17,
          8,
          8.33,
          10,
          10,
          10,
          8.33
         ],
         "theta": [
          "Aroma",
          "Flavor",
          "Aftertaste",
          "Acidity",
          "Body",
          "Balance",
          "Uniformity",
          "Clean_Cup",
          "Sweetness",
          "Cupper_Points"
         ],
         "type": "scatterpolar"
        }
       ],
       "layout": {
        "autosize": false,
        "height": 500,
        "polar": {
         "radialaxis": {
          "range": [
           0,
           10
          ],
          "visible": true
         }
        },
        "showlegend": true,
        "template": {
         "data": {
          "bar": [
           {
            "error_x": {
             "color": "#2a3f5f"
            },
            "error_y": {
             "color": "#2a3f5f"
            },
            "marker": {
             "line": {
              "color": "#E5ECF6",
              "width": 0.5
             },
             "pattern": {
              "fillmode": "overlay",
              "size": 10,
              "solidity": 0.2
             }
            },
            "type": "bar"
           }
          ],
          "barpolar": [
           {
            "marker": {
             "line": {
              "color": "#E5ECF6",
              "width": 0.5
             },
             "pattern": {
              "fillmode": "overlay",
              "size": 10,
              "solidity": 0.2
             }
            },
            "type": "barpolar"
           }
          ],
          "carpet": [
           {
            "aaxis": {
             "endlinecolor": "#2a3f5f",
             "gridcolor": "white",
             "linecolor": "white",
             "minorgridcolor": "white",
             "startlinecolor": "#2a3f5f"
            },
            "baxis": {
             "endlinecolor": "#2a3f5f",
             "gridcolor": "white",
             "linecolor": "white",
             "minorgridcolor": "white",
             "startlinecolor": "#2a3f5f"
            },
            "type": "carpet"
           }
          ],
          "choropleth": [
           {
            "colorbar": {
             "outlinewidth": 0,
             "ticks": ""
            },
            "type": "choropleth"
           }
          ],
          "contour": [
           {
            "colorbar": {
             "outlinewidth": 0,
             "ticks": ""
            },
            "colorscale": [
             [
              0,
              "#0d0887"
             ],
             [
              0.1111111111111111,
              "#46039f"
             ],
             [
              0.2222222222222222,
              "#7201a8"
             ],
             [
              0.3333333333333333,
              "#9c179e"
             ],
             [
              0.4444444444444444,
              "#bd3786"
             ],
             [
              0.5555555555555556,
              "#d8576b"
             ],
             [
              0.6666666666666666,
              "#ed7953"
             ],
             [
              0.7777777777777778,
              "#fb9f3a"
             ],
             [
              0.8888888888888888,
              "#fdca26"
             ],
             [
              1,
              "#f0f921"
             ]
            ],
            "type": "contour"
           }
          ],
          "contourcarpet": [
           {
            "colorbar": {
             "outlinewidth": 0,
             "ticks": ""
            },
            "type": "contourcarpet"
           }
          ],
          "heatmap": [
           {
            "colorbar": {
             "outlinewidth": 0,
             "ticks": ""
            },
            "colorscale": [
             [
              0,
              "#0d0887"
             ],
             [
              0.1111111111111111,
              "#46039f"
             ],
             [
              0.2222222222222222,
              "#7201a8"
             ],
             [
              0.3333333333333333,
              "#9c179e"
             ],
             [
              0.4444444444444444,
              "#bd3786"
             ],
             [
              0.5555555555555556,
              "#d8576b"
             ],
             [
              0.6666666666666666,
              "#ed7953"
             ],
             [
              0.7777777777777778,
              "#fb9f3a"
             ],
             [
              0.8888888888888888,
              "#fdca26"
             ],
             [
              1,
              "#f0f921"
             ]
            ],
            "type": "heatmap"
           }
          ],
          "heatmapgl": [
           {
            "colorbar": {
             "outlinewidth": 0,
             "ticks": ""
            },
            "colorscale": [
             [
              0,
              "#0d0887"
             ],
             [
              0.1111111111111111,
              "#46039f"
             ],
             [
              0.2222222222222222,
              "#7201a8"
             ],
             [
              0.3333333333333333,
              "#9c179e"
             ],
             [
              0.4444444444444444,
              "#bd3786"
             ],
             [
              0.5555555555555556,
              "#d8576b"
             ],
             [
              0.6666666666666666,
              "#ed7953"
             ],
             [
              0.7777777777777778,
              "#fb9f3a"
             ],
             [
              0.8888888888888888,
              "#fdca26"
             ],
             [
              1,
              "#f0f921"
             ]
            ],
            "type": "heatmapgl"
           }
          ],
          "histogram": [
           {
            "marker": {
             "pattern": {
              "fillmode": "overlay",
              "size": 10,
              "solidity": 0.2
             }
            },
            "type": "histogram"
           }
          ],
          "histogram2d": [
           {
            "colorbar": {
             "outlinewidth": 0,
             "ticks": ""
            },
            "colorscale": [
             [
              0,
              "#0d0887"
             ],
             [
              0.1111111111111111,
              "#46039f"
             ],
             [
              0.2222222222222222,
              "#7201a8"
             ],
             [
              0.3333333333333333,
              "#9c179e"
             ],
             [
              0.4444444444444444,
              "#bd3786"
             ],
             [
              0.5555555555555556,
              "#d8576b"
             ],
             [
              0.6666666666666666,
              "#ed7953"
             ],
             [
              0.7777777777777778,
              "#fb9f3a"
             ],
             [
              0.8888888888888888,
              "#fdca26"
             ],
             [
              1,
              "#f0f921"
             ]
            ],
            "type": "histogram2d"
           }
          ],
          "histogram2dcontour": [
           {
            "colorbar": {
             "outlinewidth": 0,
             "ticks": ""
            },
            "colorscale": [
             [
              0,
              "#0d0887"
             ],
             [
              0.1111111111111111,
              "#46039f"
             ],
             [
              0.2222222222222222,
              "#7201a8"
             ],
             [
              0.3333333333333333,
              "#9c179e"
             ],
             [
              0.4444444444444444,
              "#bd3786"
             ],
             [
              0.5555555555555556,
              "#d8576b"
             ],
             [
              0.6666666666666666,
              "#ed7953"
             ],
             [
              0.7777777777777778,
              "#fb9f3a"
             ],
             [
              0.8888888888888888,
              "#fdca26"
             ],
             [
              1,
              "#f0f921"
             ]
            ],
            "type": "histogram2dcontour"
           }
          ],
          "mesh3d": [
           {
            "colorbar": {
             "outlinewidth": 0,
             "ticks": ""
            },
            "type": "mesh3d"
           }
          ],
          "parcoords": [
           {
            "line": {
             "colorbar": {
              "outlinewidth": 0,
              "ticks": ""
             }
            },
            "type": "parcoords"
           }
          ],
          "pie": [
           {
            "automargin": true,
            "type": "pie"
           }
          ],
          "scatter": [
           {
            "marker": {
             "colorbar": {
              "outlinewidth": 0,
              "ticks": ""
             }
            },
            "type": "scatter"
           }
          ],
          "scatter3d": [
           {
            "line": {
             "colorbar": {
              "outlinewidth": 0,
              "ticks": ""
             }
            },
            "marker": {
             "colorbar": {
              "outlinewidth": 0,
              "ticks": ""
             }
            },
            "type": "scatter3d"
           }
          ],
          "scattercarpet": [
           {
            "marker": {
             "colorbar": {
              "outlinewidth": 0,
              "ticks": ""
             }
            },
            "type": "scattercarpet"
           }
          ],
          "scattergeo": [
           {
            "marker": {
             "colorbar": {
              "outlinewidth": 0,
              "ticks": ""
             }
            },
            "type": "scattergeo"
           }
          ],
          "scattergl": [
           {
            "marker": {
             "colorbar": {
              "outlinewidth": 0,
              "ticks": ""
             }
            },
            "type": "scattergl"
           }
          ],
          "scattermapbox": [
           {
            "marker": {
             "colorbar": {
              "outlinewidth": 0,
              "ticks": ""
             }
            },
            "type": "scattermapbox"
           }
          ],
          "scatterpolar": [
           {
            "marker": {
             "colorbar": {
              "outlinewidth": 0,
              "ticks": ""
             }
            },
            "type": "scatterpolar"
           }
          ],
          "scatterpolargl": [
           {
            "marker": {
             "colorbar": {
              "outlinewidth": 0,
              "ticks": ""
             }
            },
            "type": "scatterpolargl"
           }
          ],
          "scatterternary": [
           {
            "marker": {
             "colorbar": {
              "outlinewidth": 0,
              "ticks": ""
             }
            },
            "type": "scatterternary"
           }
          ],
          "surface": [
           {
            "colorbar": {
             "outlinewidth": 0,
             "ticks": ""
            },
            "colorscale": [
             [
              0,
              "#0d0887"
             ],
             [
              0.1111111111111111,
              "#46039f"
             ],
             [
              0.2222222222222222,
              "#7201a8"
             ],
             [
              0.3333333333333333,
              "#9c179e"
             ],
             [
              0.4444444444444444,
              "#bd3786"
             ],
             [
              0.5555555555555556,
              "#d8576b"
             ],
             [
              0.6666666666666666,
              "#ed7953"
             ],
             [
              0.7777777777777778,
              "#fb9f3a"
             ],
             [
              0.8888888888888888,
              "#fdca26"
             ],
             [
              1,
              "#f0f921"
             ]
            ],
            "type": "surface"
           }
          ],
          "table": [
           {
            "cells": {
             "fill": {
              "color": "#EBF0F8"
             },
             "line": {
              "color": "white"
             }
            },
            "header": {
             "fill": {
              "color": "#C8D4E3"
             },
             "line": {
              "color": "white"
             }
            },
            "type": "table"
           }
          ]
         },
         "layout": {
          "annotationdefaults": {
           "arrowcolor": "#2a3f5f",
           "arrowhead": 0,
           "arrowwidth": 1
          },
          "autotypenumbers": "strict",
          "coloraxis": {
           "colorbar": {
            "outlinewidth": 0,
            "ticks": ""
           }
          },
          "colorscale": {
           "diverging": [
            [
             0,
             "#8e0152"
            ],
            [
             0.1,
             "#c51b7d"
            ],
            [
             0.2,
             "#de77ae"
            ],
            [
             0.3,
             "#f1b6da"
            ],
            [
             0.4,
             "#fde0ef"
            ],
            [
             0.5,
             "#f7f7f7"
            ],
            [
             0.6,
             "#e6f5d0"
            ],
            [
             0.7,
             "#b8e186"
            ],
            [
             0.8,
             "#7fbc41"
            ],
            [
             0.9,
             "#4d9221"
            ],
            [
             1,
             "#276419"
            ]
           ],
           "sequential": [
            [
             0,
             "#0d0887"
            ],
            [
             0.1111111111111111,
             "#46039f"
            ],
            [
             0.2222222222222222,
             "#7201a8"
            ],
            [
             0.3333333333333333,
             "#9c179e"
            ],
            [
             0.4444444444444444,
             "#bd3786"
            ],
            [
             0.5555555555555556,
             "#d8576b"
            ],
            [
             0.6666666666666666,
             "#ed7953"
            ],
            [
             0.7777777777777778,
             "#fb9f3a"
            ],
            [
             0.8888888888888888,
             "#fdca26"
            ],
            [
             1,
             "#f0f921"
            ]
           ],
           "sequentialminus": [
            [
             0,
             "#0d0887"
            ],
            [
             0.1111111111111111,
             "#46039f"
            ],
            [
             0.2222222222222222,
             "#7201a8"
            ],
            [
             0.3333333333333333,
             "#9c179e"
            ],
            [
             0.4444444444444444,
             "#bd3786"
            ],
            [
             0.5555555555555556,
             "#d8576b"
            ],
            [
             0.6666666666666666,
             "#ed7953"
            ],
            [
             0.7777777777777778,
             "#fb9f3a"
            ],
            [
             0.8888888888888888,
             "#fdca26"
            ],
            [
             1,
             "#f0f921"
            ]
           ]
          },
          "colorway": [
           "#636efa",
           "#EF553B",
           "#00cc96",
           "#ab63fa",
           "#FFA15A",
           "#19d3f3",
           "#FF6692",
           "#B6E880",
           "#FF97FF",
           "#FECB52"
          ],
          "font": {
           "color": "#2a3f5f"
          },
          "geo": {
           "bgcolor": "white",
           "lakecolor": "white",
           "landcolor": "#E5ECF6",
           "showlakes": true,
           "showland": true,
           "subunitcolor": "white"
          },
          "hoverlabel": {
           "align": "left"
          },
          "hovermode": "closest",
          "mapbox": {
           "style": "light"
          },
          "paper_bgcolor": "white",
          "plot_bgcolor": "#E5ECF6",
          "polar": {
           "angularaxis": {
            "gridcolor": "white",
            "linecolor": "white",
            "ticks": ""
           },
           "bgcolor": "#E5ECF6",
           "radialaxis": {
            "gridcolor": "white",
            "linecolor": "white",
            "ticks": ""
           }
          },
          "scene": {
           "xaxis": {
            "backgroundcolor": "#E5ECF6",
            "gridcolor": "white",
            "gridwidth": 2,
            "linecolor": "white",
            "showbackground": true,
            "ticks": "",
            "zerolinecolor": "white"
           },
           "yaxis": {
            "backgroundcolor": "#E5ECF6",
            "gridcolor": "white",
            "gridwidth": 2,
            "linecolor": "white",
            "showbackground": true,
            "ticks": "",
            "zerolinecolor": "white"
           },
           "zaxis": {
            "backgroundcolor": "#E5ECF6",
            "gridcolor": "white",
            "gridwidth": 2,
            "linecolor": "white",
            "showbackground": true,
            "ticks": "",
            "zerolinecolor": "white"
           }
          },
          "shapedefaults": {
           "line": {
            "color": "#2a3f5f"
           }
          },
          "ternary": {
           "aaxis": {
            "gridcolor": "white",
            "linecolor": "white",
            "ticks": ""
           },
           "baxis": {
            "gridcolor": "white",
            "linecolor": "white",
            "ticks": ""
           },
           "bgcolor": "#E5ECF6",
           "caxis": {
            "gridcolor": "white",
            "linecolor": "white",
            "ticks": ""
           }
          },
          "title": {
           "x": 0.05
          },
          "xaxis": {
           "automargin": true,
           "gridcolor": "white",
           "linecolor": "white",
           "ticks": "",
           "title": {
            "standoff": 15
           },
           "zerolinecolor": "white",
           "zerolinewidth": 2
          },
          "yaxis": {
           "automargin": true,
           "gridcolor": "white",
           "linecolor": "white",
           "ticks": "",
           "title": {
            "standoff": 15
           },
           "zerolinecolor": "white",
           "zerolinewidth": 2
          }
         }
        },
        "width": 700
       }
      }
     },
     "metadata": {},
     "output_type": "display_data"
    }
   ],
   "source": [
    "fig = go.Figure()\n",
    "\n",
    "fig.add_trace(go.Scatterpolar(\n",
    "      r=[8.42, 8.50, 8.42, 8.42, 8.33, 8.42, 10.0, 10.0, 10.0, 9.25],\n",
    "      theta=categories,\n",
    "      name='Bourbon'\n",
    "))\n",
    "fig.add_trace(go.Scatterpolar(\n",
    "      r=[8.42,\t8.25,\t8.08,\t8.17,\t7.92,\t8.00,\t10.0,\t10.0,\t10.0,\t8.42],\n",
    "      theta=categories,\n",
    "      name='Catimor'\n",
    "))\n",
    "fig.add_trace(go.Scatterpolar(\n",
    "      r=[8.08,\t8.25,\t8.00,\t8.17,\t8.00,\t8.33,\t10.0,\t10.0,\t10.0,\t8.33],\n",
    "      theta=categories,\n",
    "      name='Caturra'\n",
    "))\n",
    "\n",
    "fig.update_layout(\n",
    "  autosize=False,\n",
    "  width=700,\n",
    "  height=500,\n",
    "  polar=dict(\n",
    "    radialaxis=dict(\n",
    "      visible=True,\n",
    "      range=[0, 10]\n",
    "    )),\n",
    "  showlegend=True,\n",
    ")\n",
    "\n",
    "fig.show()"
   ]
  },
  {
   "cell_type": "markdown",
   "metadata": {},
   "source": [
    "Se muestra una gráfica parecida usada por los catadores que evalúan la calidad del café"
   ]
  }
 ],
 "metadata": {
  "interpreter": {
   "hash": "814720a8a9eefb8a3aa49802708a4747920edb054f042a8ba4b2d30cafce3e9a"
  },
  "kernelspec": {
   "display_name": "Python 3.8.12 ('pyAnalyticsversion2')",
   "language": "python",
   "name": "python3"
  },
  "language_info": {
   "codemirror_mode": {
    "name": "ipython",
    "version": 3
   },
   "file_extension": ".py",
   "mimetype": "text/x-python",
   "name": "python",
   "nbconvert_exporter": "python",
   "pygments_lexer": "ipython3",
   "version": "3.8.12"
  },
  "orig_nbformat": 4
 },
 "nbformat": 4,
 "nbformat_minor": 2
}
